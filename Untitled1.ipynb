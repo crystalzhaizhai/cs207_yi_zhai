{
 "cells": [
  {
   "cell_type": "code",
   "execution_count": 38,
   "metadata": {},
   "outputs": [
    {
     "name": "stdout",
     "output_type": "stream",
     "text": [
      "[[ 0.101]\n",
      " [-0.1  ]]\n",
      "([[4.7739994000011166, 4.7739994000011166]], [[0.1], [-0.1]])\n"
     ]
    }
   ],
   "source": [
    "import numpy as np\n",
    "\n",
    "def rv(value_list):\n",
    "    return np.array([value_list])\n",
    "def cv(value_list):\n",
    "    return np.transpose(rv(value_list))\n",
    "def f(x):\n",
    "    return(x - 2.) * (x - 3.) * (x + 3.) * (x + 1.)\n",
    "def fdf1(x):\n",
    "    return float((2 * x + 3)**2), 2 * 2 * (2 * x + 3)\n",
    "def fdf2(v):\n",
    "    x = float(v[0]); y = float(v[1])\n",
    "    return f(x) + (x + y -1)**2,\\\n",
    "           cv([(-3. + x) * (-2. + x) * (1. + x) + \\\n",
    "               (-3. + x) * (-2. + x) * (3. + x) + \\\n",
    "               (-3. + x) * (1. + x) * (3. + x) + \\\n",
    "               (-2. + x) * (1. + x) * (3. + x) + \\\n",
    "               2 * (-1. + x + y), \n",
    "               2 * (-1. + x + y)])\n",
    "\n",
    "def one_hot(v, entries):\n",
    "    vec = len(entries)*[0]\n",
    "    vec[entries.index(v)] = 1\n",
    "    return vec\n",
    "\n",
    "def num_grad(f, delta=0.001):\n",
    "    def new_func(x):\n",
    "        fu=np.zeros((len(x),len(x)))\n",
    "        for i in range(len(x)):\n",
    "            fu[i][i]=1\n",
    "      \n",
    "        print(x+delta*np.reshape(fu[:,0],(-1,1)))\n",
    "        result=[(f(x+delta*np.reshape(fu[:,0],(-1,1)))-f(x-delta*np.reshape(fu[:,0],(-1,1))))/(2*delta) for i in range(len(x))]\n",
    "        return np.array([result])\n",
    "    return new_func\n",
    "\n",
    "x=cv([0.1, -0.1])\n",
    "\n",
    "ans=(num_grad(lambda xa: fdf2(xa)[0])(x).tolist(), x.tolist())\n",
    "\n",
    "print(ans)"
   ]
  },
  {
   "cell_type": "code",
   "execution_count": 39,
   "metadata": {
    "collapsed": true
   },
   "outputs": [],
   "source": [
    "def minimize(f, x0, step_size_fn, max_iter):\n",
    "   \n",
    "    fdf=lambda x: (f(x),num_grad(f)(x))\n",
    "    print(fdf(x0))\n",
    "    \n",
    "\n",
    "    xn=gd(fdf, x0, step_size_fn, max_iter)\n",
    "    return xn\n",
    "    pass"
   ]
  },
  {
   "cell_type": "code",
   "execution_count": 40,
   "metadata": {},
   "outputs": [
    {
     "ename": "NameError",
     "evalue": "name 'package_ans' is not defined",
     "output_type": "error",
     "traceback": [
      "\u001b[0;31m---------------------------------------------------------------------------\u001b[0m",
      "\u001b[0;31mNameError\u001b[0m                                 Traceback (most recent call last)",
      "\u001b[0;32m<ipython-input-40-15c15ec4de17>\u001b[0m in \u001b[0;36m<module>\u001b[0;34m()\u001b[0m\n\u001b[0;32m----> 1\u001b[0;31m \u001b[0mans\u001b[0m\u001b[0;34m=\u001b[0m\u001b[0mpackage_ans\u001b[0m\u001b[0;34m(\u001b[0m\u001b[0mminimize\u001b[0m\u001b[0;34m(\u001b[0m\u001b[0mf1\u001b[0m\u001b[0;34m,\u001b[0m \u001b[0mcv\u001b[0m\u001b[0;34m(\u001b[0m\u001b[0;34m[\u001b[0m\u001b[0;36m0.\u001b[0m\u001b[0;34m]\u001b[0m\u001b[0;34m)\u001b[0m\u001b[0;34m,\u001b[0m \u001b[0;32mlambda\u001b[0m \u001b[0mi\u001b[0m\u001b[0;34m:\u001b[0m \u001b[0;36m0.1\u001b[0m\u001b[0;34m,\u001b[0m \u001b[0;36m1000\u001b[0m\u001b[0;34m)\u001b[0m\u001b[0;34m)\u001b[0m\u001b[0;34m\u001b[0m\u001b[0m\n\u001b[0m",
      "\u001b[0;31mNameError\u001b[0m: name 'package_ans' is not defined"
     ]
    }
   ],
   "source": [
    "ans=package_ans(minimize(f1, cv([0.]), lambda i: 0.1, 1000))"
   ]
  },
  {
   "cell_type": "code",
   "execution_count": null,
   "metadata": {
    "collapsed": true
   },
   "outputs": [],
   "source": []
  }
 ],
 "metadata": {
  "kernelspec": {
   "display_name": "Python 3",
   "language": "python",
   "name": "python3"
  },
  "language_info": {
   "codemirror_mode": {
    "name": "ipython",
    "version": 3
   },
   "file_extension": ".py",
   "mimetype": "text/x-python",
   "name": "python",
   "nbconvert_exporter": "python",
   "pygments_lexer": "ipython3",
   "version": "3.6.1"
  }
 },
 "nbformat": 4,
 "nbformat_minor": 2
}
