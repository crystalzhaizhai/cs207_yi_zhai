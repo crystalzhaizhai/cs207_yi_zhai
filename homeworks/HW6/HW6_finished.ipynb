{
 "cells": [
  {
   "cell_type": "markdown",
   "metadata": {},
   "source": [
    "# Homework 6\n",
    "## Due:  Tuesday, October 10 at 11:59 PM"
   ]
  },
  {
   "cell_type": "markdown",
   "metadata": {},
   "source": [
    "# Problem 1: Bank Account Revisited\n",
    "\n",
    "We are going to rewrite the bank account closure problem we had a few assignments ago, only this time developing a formal class for a Bank User and Bank Account to use in our closure (recall previously we just had a nonlocal variable amount that we changed). "
   ]
  },
  {
   "cell_type": "markdown",
   "metadata": {},
   "source": [
    "### Some Preliminaries:\n",
    "First we are going to define two types of bank accounts.  Use the code below to do this:"
   ]
  },
  {
   "cell_type": "code",
   "execution_count": 2,
   "metadata": {
    "collapsed": true
   },
   "outputs": [],
   "source": [
    "from enum import Enum\n",
    "class AccountType(Enum):\n",
    "    SAVINGS = 1\n",
    "    CHECKING = 2"
   ]
  },
  {
   "cell_type": "markdown",
   "metadata": {},
   "source": [
    "An Enum stands for an enumeration, it's a convenient way for you to define lists of things. Typing:"
   ]
  },
  {
   "cell_type": "code",
   "execution_count": 3,
   "metadata": {},
   "outputs": [
    {
     "data": {
      "text/plain": [
       "<AccountType.SAVINGS: 1>"
      ]
     },
     "execution_count": 3,
     "metadata": {},
     "output_type": "execute_result"
    }
   ],
   "source": [
    "AccountType.SAVINGS"
   ]
  },
  {
   "cell_type": "markdown",
   "metadata": {},
   "source": [
    "returns a Python representation of an enumeration. You can compare these account types:"
   ]
  },
  {
   "cell_type": "code",
   "execution_count": 4,
   "metadata": {},
   "outputs": [
    {
     "data": {
      "text/plain": [
       "True"
      ]
     },
     "execution_count": 4,
     "metadata": {},
     "output_type": "execute_result"
    }
   ],
   "source": [
    "AccountType.SAVINGS == AccountType.SAVINGS"
   ]
  },
  {
   "cell_type": "code",
   "execution_count": 5,
   "metadata": {},
   "outputs": [
    {
     "data": {
      "text/plain": [
       "False"
      ]
     },
     "execution_count": 5,
     "metadata": {},
     "output_type": "execute_result"
    }
   ],
   "source": [
    "AccountType.SAVINGS == AccountType.CHECKING"
   ]
  },
  {
   "cell_type": "markdown",
   "metadata": {},
   "source": [
    "To get a string representation of an Enum, you can use:"
   ]
  },
  {
   "cell_type": "code",
   "execution_count": 6,
   "metadata": {},
   "outputs": [
    {
     "data": {
      "text/plain": [
       "'SAVINGS'"
      ]
     },
     "execution_count": 6,
     "metadata": {},
     "output_type": "execute_result"
    }
   ],
   "source": [
    "AccountType.SAVINGS.name"
   ]
  },
  {
   "cell_type": "markdown",
   "metadata": {},
   "source": [
    "### Part 1: Create a BankAccount class with the following specification:\n",
    "\n",
    "Constructor is `BankAccount(self, owner, accountType)` where `owner` is a string representing the name of the account owner and `accountType` is one of the AccountType enums\n",
    "\n",
    "Methods `withdraw(self, amount)` and `deposit(self, amount)` to modify the account balance of the account\n",
    "\n",
    "Override methods `__str__` to write an informative string of the account owner and the type of account, and `__len__` to return the balance of the account"
   ]
  },
  {
   "cell_type": "code",
   "execution_count": 7,
   "metadata": {},
   "outputs": [],
   "source": [
    "class BankAccount():\n",
    "    def __init__(self,owner,accountType):\n",
    "        self.owner=owner\n",
    "        self.accountType=accountType\n",
    "        self.balance=0\n",
    "    def withdraw(self,amount):\n",
    "        if amount<0:\n",
    "            raise ValueError(\"amount<0\")\n",
    "        if self.balance<amount:\n",
    "            raise ValueError(\"withdraw more than balance\")\n",
    "        self.balance-=amount\n",
    "    def deposit(self,amount):\n",
    "        if amount<0:\n",
    "            raise ValueError(\"amount<0\")\n",
    "        self.balance+=amount\n",
    "    def __str__(self):\n",
    "        return \"owner:{!s} account type:{!s}\".format(self.owner,self.accountType.name)\n",
    "    def __len__(self):\n",
    "        return self.balance"
   ]
  },
  {
   "cell_type": "code",
   "execution_count": 8,
   "metadata": {},
   "outputs": [],
   "source": [
    "myaccount=BankAccount(\"zhaizhai\",AccountType.CHECKING)"
   ]
  },
  {
   "cell_type": "code",
   "execution_count": 9,
   "metadata": {},
   "outputs": [
    {
     "name": "stdout",
     "output_type": "stream",
     "text": [
      "0\n"
     ]
    }
   ],
   "source": [
    "\n",
    "print(myaccount.balance)\n"
   ]
  },
  {
   "cell_type": "markdown",
   "metadata": {},
   "source": [
    "### Part 2:  Write a class BankUser with the following specification:\n",
    "\n",
    "Constructor `BankUser(self, owner)` where `owner` is the name of the account.\n",
    "\n",
    "Method `addAccount(self, accountType)` - to start, a user will have no accounts when the BankUser object is created. `addAccount` will add a new account to the user of the `accountType` specified. **Only one savings/checking account per user, return appropriate error otherwise**\n",
    "\n",
    "Methods `getBalance(self, accountType)`, `deposit(self, accountType, amount)`, and `withdraw(self, accountType, amount)` for a specific AccountType.\n",
    "\n",
    "Override `__str__` to have an informative summary of user's accounts."
   ]
  },
  {
   "cell_type": "code",
   "execution_count": 10,
   "metadata": {},
   "outputs": [],
   "source": [
    "class BankUser():\n",
    "    def __init__(self,owner):\n",
    "        self.owner=owner\n",
    "        self.SavingAccount=None\n",
    "        self.CheckingAccount=None\n",
    "    def addAccount(self,accountType):\n",
    "        if accountType==AccountType.SAVINGS:\n",
    "            if self.SavingAccount==None:\n",
    "                self.SavingAccount=BankAccount(self.owner,accountType)\n",
    "            else:\n",
    "                print(\"more than one saving account!\")\n",
    "                raise AttributeError(\"more than one saving account!\")\n",
    "        elif accountType==AccountType.CHECKING:\n",
    "            if self.CheckingAccount==None:\n",
    "                self.CheckingAccount=BankAccount(self.owner,accountType)\n",
    "            else:\n",
    "                print(\"more than one checking account!\")\n",
    "                raise AttributeError(\"more than one checking account!\")\n",
    "        else:\n",
    "            print(\"no such account type!\")\n",
    "            raise ValueError(\"no such account type!\")\n",
    "    def getBalance(self,accountType):\n",
    "        if accountType==AccountType.SAVINGS:\n",
    "            if self.SavingAccount==None:\n",
    "                print(\"saving account not exist\")\n",
    "                raise AttributeError(\"saving account not exist\")\n",
    "            else:\n",
    "                return self.SavingAccount.balance\n",
    "        elif accountType==AccountType.CHECKING:\n",
    "            if self.CheckingAccount==None:\n",
    "                print(\"checking account not exist\")\n",
    "                raise AttributeError(\"checking account not exist\")\n",
    "            else:\n",
    "                return self.CheckingAccount.balance\n",
    "        else:\n",
    "            print(\"no such account type!\")\n",
    "            raise AttributeError(\"no such account type!\")\n",
    "    \n",
    "    def deposit(self,accountType,amount):\n",
    "        if accountType==AccountType.SAVINGS:\n",
    "            if self.SavingAccount==None:\n",
    "                print(\"saving account not exist\")\n",
    "                raise AttributeError(\"saving account not exist\")\n",
    "            else:\n",
    "                return self.SavingAccount.deposit(amount)\n",
    "        elif accountType==AccountType.CHECKING:\n",
    "            if self.CheckingAccount==None:\n",
    "                print(\"checking account not exist\")\n",
    "                raise AttributeError(\"checking account not exist\")\n",
    "            else:\n",
    "                return self.CheckingAccount.deposit(amount)\n",
    "        else:\n",
    "            print(\"no such account type!\")\n",
    "            raise AttributeError(\"no such account type!\")\n",
    "\n",
    "            \n",
    "    def withdraw(self,accountType,amount):\n",
    "        if accountType==AccountType.SAVINGS:\n",
    "            if self.SavingAccount==None:\n",
    "                print(\"saving account not exist\")\n",
    "                raise AttributeError(\"saving account not exist\")\n",
    "            else:\n",
    "                return self.SavingAccount.withdraw(amount)\n",
    "        elif accountType==AccountType.CHECKING:\n",
    "            if self.CheckingAccount==None:\n",
    "                print(\"checking account not exist\")\n",
    "                raise AttributeError(\"checking account not exist\")\n",
    "            else:\n",
    "                return self.CheckingAccount.withdraw(amount)\n",
    "        else:\n",
    "            print(\"no such account type!\")\n",
    "            raise AttributeError(\"no such account type!\")\n",
    "     \n",
    "    def __str__(self):\n",
    "        s=\"owner:{!s}\".format(self.owner)\n",
    "        if self.SavingAccount!=None:\n",
    "            s=s+\"account type: Saving balance:{:.2f}\".format(self.SavingAccount.balance)\n",
    "        if self.CheckingAccount!=None:\n",
    "            s=s+\"account type: Checking balance:{:.2f}\".format(self.CheckingAccount.balance)\n",
    "        return s\n",
    "        "
   ]
  },
  {
   "cell_type": "code",
   "execution_count": 11,
   "metadata": {},
   "outputs": [
    {
     "name": "stdout",
     "output_type": "stream",
     "text": [
      "owner:zhaizhai\n",
      "owner:zhaizhaiaccount type: Saving balance:0.00\n",
      "owner:zhaizhaiaccount type: Saving balance:1.00\n",
      "checking account not exist\n"
     ]
    },
    {
     "ename": "AttributeError",
     "evalue": "checking account not exist",
     "output_type": "error",
     "traceback": [
      "\u001b[0;31m---------------------------------------------------------------------------\u001b[0m",
      "\u001b[0;31mAttributeError\u001b[0m                            Traceback (most recent call last)",
      "\u001b[0;32m<ipython-input-11-7480a4657388>\u001b[0m in \u001b[0;36m<module>\u001b[0;34m()\u001b[0m\n\u001b[1;32m      6\u001b[0m \u001b[0mnewuser\u001b[0m\u001b[0;34m.\u001b[0m\u001b[0mwithdraw\u001b[0m\u001b[0;34m(\u001b[0m\u001b[0mAccountType\u001b[0m\u001b[0;34m.\u001b[0m\u001b[0mSAVINGS\u001b[0m\u001b[0;34m,\u001b[0m\u001b[0;36m1\u001b[0m\u001b[0;34m)\u001b[0m\u001b[0;34m\u001b[0m\u001b[0m\n\u001b[1;32m      7\u001b[0m \u001b[0mprint\u001b[0m\u001b[0;34m(\u001b[0m\u001b[0mnewuser\u001b[0m\u001b[0;34m)\u001b[0m\u001b[0;34m\u001b[0m\u001b[0m\n\u001b[0;32m----> 8\u001b[0;31m \u001b[0mnewuser\u001b[0m\u001b[0;34m.\u001b[0m\u001b[0mwithdraw\u001b[0m\u001b[0;34m(\u001b[0m\u001b[0mAccountType\u001b[0m\u001b[0;34m.\u001b[0m\u001b[0mCHECKING\u001b[0m\u001b[0;34m,\u001b[0m\u001b[0;36m1\u001b[0m\u001b[0;34m)\u001b[0m\u001b[0;34m\u001b[0m\u001b[0m\n\u001b[0m",
      "\u001b[0;32m<ipython-input-10-dcdc8d905e02>\u001b[0m in \u001b[0;36mwithdraw\u001b[0;34m(self, accountType, amount)\u001b[0m\n\u001b[1;32m     65\u001b[0m             \u001b[0;32mif\u001b[0m \u001b[0mself\u001b[0m\u001b[0;34m.\u001b[0m\u001b[0mCheckingAccount\u001b[0m\u001b[0;34m==\u001b[0m\u001b[0;32mNone\u001b[0m\u001b[0;34m:\u001b[0m\u001b[0;34m\u001b[0m\u001b[0m\n\u001b[1;32m     66\u001b[0m                 \u001b[0mprint\u001b[0m\u001b[0;34m(\u001b[0m\u001b[0;34m\"checking account not exist\"\u001b[0m\u001b[0;34m)\u001b[0m\u001b[0;34m\u001b[0m\u001b[0m\n\u001b[0;32m---> 67\u001b[0;31m                 \u001b[0;32mraise\u001b[0m \u001b[0mAttributeError\u001b[0m\u001b[0;34m(\u001b[0m\u001b[0;34m\"checking account not exist\"\u001b[0m\u001b[0;34m)\u001b[0m\u001b[0;34m\u001b[0m\u001b[0m\n\u001b[0m\u001b[1;32m     68\u001b[0m             \u001b[0;32melse\u001b[0m\u001b[0;34m:\u001b[0m\u001b[0;34m\u001b[0m\u001b[0m\n\u001b[1;32m     69\u001b[0m                 \u001b[0;32mreturn\u001b[0m \u001b[0mself\u001b[0m\u001b[0;34m.\u001b[0m\u001b[0mCheckingAccount\u001b[0m\u001b[0;34m.\u001b[0m\u001b[0mwithdraw\u001b[0m\u001b[0;34m(\u001b[0m\u001b[0mamount\u001b[0m\u001b[0;34m)\u001b[0m\u001b[0;34m\u001b[0m\u001b[0m\n",
      "\u001b[0;31mAttributeError\u001b[0m: checking account not exist"
     ]
    }
   ],
   "source": [
    "newuser=BankUser(\"zhaizhai\")\n",
    "print(newuser)\n",
    "newuser.addAccount(AccountType.SAVINGS)\n",
    "print(newuser)\n",
    "newuser.deposit(AccountType.SAVINGS,2)\n",
    "newuser.withdraw(AccountType.SAVINGS,1)\n",
    "print(newuser)\n",
    "newuser.withdraw(AccountType.CHECKING,1)"
   ]
  },
  {
   "cell_type": "markdown",
   "metadata": {},
   "source": [
    "Write some simple tests to make sure this is working. Think of edge scenarios a user might try to do."
   ]
  },
  {
   "cell_type": "markdown",
   "metadata": {},
   "source": [
    "### Part 3:  ATM Closure\n",
    "\n",
    "Finally, we are going to rewrite a closure to use our bank account. We will make use of the [input function](http://anh.cs.luc.edu/python/hands-on/3.1/handsonHtml/io.html) which takes user input to decide what actions to take.\n",
    "\n",
    "Write a closure called ATMSession(bankUser) which takes in a BankUser object. Return a method called Interface that when called, would provide the following interface:\n",
    "\n",
    "First screen for user will look like:\n",
    "\n",
    "\n",
    "**Enter Option:**\n",
    "\n",
    "**1)Exit**\n",
    "\n",
    "**2)Create Account**\n",
    "\n",
    "**3)Check Balance**\n",
    "\n",
    "**4)Deposit**\n",
    "\n",
    "**5)Withdraw**\n",
    "\n",
    "\n",
    "Pressing 1 will exit, any other option will show the options:\n",
    "\n",
    "\n",
    "\n",
    "**Enter Option:**\n",
    "\n",
    "**1)Checking**\n",
    "\n",
    "**2)Savings**\n",
    "\n",
    "\n",
    "If a deposit or withdraw was chosen, then there must be a third screen:\n",
    "\n",
    "\n",
    "\n",
    "**Enter Integer Amount, Cannot Be Negative:**\n",
    "\n",
    "This is to keep the code relatively simple, if you'd like you can also curate the options depending on the BankUser object (for example, if user has no accounts then only show the Create Account option), but this is up to you. In any case, you must handle any input from the user in a reasonable way that an actual bank would be okay with, and give the user a proper response to the action specified.\n",
    "\n",
    "Upon finishing a transaction or viewing balance, it should go back to the original screen"
   ]
  },
  {
   "cell_type": "code",
   "execution_count": 59,
   "metadata": {},
   "outputs": [],
   "source": [
    "def ATMSession(bankUser):\n",
    "    def Interface():\n",
    "        option1=input(\"Enter Options:\\\n",
    "                        1)Exit\\\n",
    "                        2)Creat Account\\\n",
    "                        3)Check Balance\\\n",
    "                        4)Deposit\\\n",
    "                        5)Withdraw\")\n",
    "        if option1==\"1\":\n",
    "            return\n",
    "        option2=input(\"Enter Options:\\\n",
    "                        1)Checking\\\n",
    "                        2)Saving\")\n",
    "        if option1==\"2\":\n",
    "            if option2==\"1\":\n",
    "                bankUser.addAccount(AccountType.CHECKING)\n",
    "                return\n",
    "            elif option2==\"2\":\n",
    "                bankUser.addAccount(AccountType.SAVINGS)\n",
    "                return\n",
    "            else:\n",
    "                print(\"no such account type\")\n",
    "                raise AttributeError(\"no such account type\")\n",
    "        if option1==\"3\":\n",
    "            if option2==\"1\":\n",
    "                print(bankUser.getBalance(AccountType.CHECKING))\n",
    "                return\n",
    "            elif option2==\"2\":\n",
    "                print(bankUser.getBalance(AccountType.SAVINGS))\n",
    "                return\n",
    "            else:\n",
    "                print(\"no such account type\")\n",
    "                raise AttributeError(\"no such account type\")\n",
    "                \n",
    "        if option1==\"4\":\n",
    "            option3=input(\"Enter Interger Amount, Cannot be Negative:\")\n",
    "            if option2==\"1\":\n",
    "                bankUser.deposit(AccountType.CHECKING,int(option3))\n",
    "                return\n",
    "            elif option2==\"2\":\n",
    "                bankUser.deposit(AccountType.SAVINGS,int(option3))\n",
    "                return\n",
    "            else:\n",
    "                print(\"no such account type\")\n",
    "                raise AttributeError(\"no such account type\")\n",
    "        \n",
    "        if option1==\"5\":\n",
    "            option3=input(\"Enter Interger Amount, Cannot be Negative:\")\n",
    "            if option2==\"1\":\n",
    "                bankUser.withdraw(AccountType.CHECKING,int(option3))\n",
    "                return\n",
    "            elif option2==\"2\":\n",
    "                bankUser.withdraw(AccountType.SAVINGS,int(option3))\n",
    "                return\n",
    "            else:\n",
    "                print(\"no such account type\")\n",
    "                raise AttributeError(\"no such account type\")\n",
    "        print(\"no such operation\")\n",
    "        raise AttributeError(\"no such operation\")\n",
    "        Interface()\n",
    "    return Interface"
   ]
  },
  {
   "cell_type": "code",
   "execution_count": 171,
   "metadata": {},
   "outputs": [
    {
     "name": "stdout",
     "output_type": "stream",
     "text": [
      "Enter Options:                        1)Exit                        2)Creat Account                        3)Check Balance                        4)Deposit                        5)Withdraw1\n"
     ]
    }
   ],
   "source": [
    "myATM=ATMSession(newuser)\n",
    "myATM()"
   ]
  },
  {
   "cell_type": "code",
   "execution_count": 14,
   "metadata": {},
   "outputs": [
    {
     "name": "stdout",
     "output_type": "stream",
     "text": [
      "owner:zhaizhaiaccount type: Saving balance:1.00\n"
     ]
    }
   ],
   "source": [
    "print(newuser)"
   ]
  },
  {
   "cell_type": "markdown",
   "metadata": {},
   "source": [
    "### Part 4:  Put everything in a module Bank.py\n",
    "\n",
    "We will be grading this problem with a test suite. Put the enum, classes, and closure in a single file named Bank.py. It is very important that the class and method specifications we provided are used (with the same capitalization), otherwise you will receive no credit."
   ]
  },
  {
   "cell_type": "code",
   "execution_count": 169,
   "metadata": {},
   "outputs": [
    {
     "name": "stdout",
     "output_type": "stream",
     "text": [
      "Overwriting bank.py\n"
     ]
    }
   ],
   "source": [
    "%%file bank.py\n",
    "from enum import Enum\n",
    "class AccountType(Enum):\n",
    "    SAVINGS = 1\n",
    "    CHECKING = 2\n",
    "    \n",
    "class BankAccount():\n",
    "    def __init__(self,owner,accountType):\n",
    "        self.owner=owner\n",
    "        self.accountType=accountType\n",
    "        self.balance=0\n",
    "    def withdraw(self,amount):\n",
    "        if type(amount)!=int:\n",
    "            raise ValueError(\"not integer amount\")\n",
    "        if amount<0:\n",
    "            raise ValueError(\"amount<0\")\n",
    "        if self.balance<amount:\n",
    "            raise ValueError(\"withdraw more than balance\")\n",
    "        self.balance-=amount\n",
    "    def deposit(self,amount):\n",
    "        if type(amount)!=int:\n",
    "            raise ValueError(\"not integer amount\")\n",
    "        if amount<0:\n",
    "            raise ValueError(\"amount<0\")\n",
    "        self.balance+=amount\n",
    "    def __str__(self):\n",
    "        return \"owner:{!s} account type:{!s}\".format(self.owner,self.accountType.name)\n",
    "    def __len__(self):\n",
    "        return self.balance\n",
    "    \n",
    "    \n",
    "def ATMSession(bankUser):\n",
    "    def Interface():\n",
    "        option1=input(\"Enter Options:\\\n",
    "                        1)Exit\\\n",
    "                        2)Creat Account\\\n",
    "                        3)Check Balance\\\n",
    "                        4)Deposit\\\n",
    "                        5)Withdraw\")\n",
    "        if option1==\"1\":\n",
    "            return\n",
    "        option2=input(\"Enter Options:\\\n",
    "                        1)Checking\\\n",
    "                        2)Saving\")\n",
    "        if option1==\"2\":\n",
    "            if option2==\"1\":\n",
    "                bankUser.addAccount(AccountType.CHECKING)\n",
    "                return\n",
    "            elif option2==\"2\":\n",
    "                bankUser.addAccount(AccountType.SAVINGS)\n",
    "                return\n",
    "            else:\n",
    "                print(\"no such account type\")\n",
    "                raise AttributeError(\"no such account type\")\n",
    "        if option1==\"3\":\n",
    "            if option2==\"1\":\n",
    "                print(bankUser.getBalance(AccountType.CHECKING))\n",
    "                return\n",
    "            elif option2==\"2\":\n",
    "                print(bankUser.getBalance(AccountType.SAVINGS))\n",
    "                return\n",
    "            else:\n",
    "                print(\"no such account type\")\n",
    "                raise AttributeError(\"no such account type\")\n",
    "                \n",
    "        if option1==\"4\":\n",
    "            option3=input(\"Enter Interger Amount, Cannot be Negative:\")\n",
    "            if option2==\"1\":\n",
    "                bankUser.deposit(AccountType.CHECKING,int(option3))\n",
    "                return\n",
    "            elif option2==\"2\":\n",
    "                bankUser.deposit(AccountType.SAVINGS,int(option3))\n",
    "                return\n",
    "            else:\n",
    "                print(\"no such account type\")\n",
    "                raise AttributeError(\"no such account type\")\n",
    "        \n",
    "        if option1==\"5\":\n",
    "            option3=input(\"Enter Interger Amount, Cannot be Negative:\")\n",
    "            if option2==\"1\":\n",
    "                bankUser.withdraw(AccountType.CHECKING,int(option3))\n",
    "                return\n",
    "            elif option2==\"2\":\n",
    "                bankUser.withdraw(AccountType.SAVINGS,int(option3))\n",
    "                return\n",
    "            else:\n",
    "                print(\"no such account type\")\n",
    "                raise AttributeError(\"no such account type\")\n",
    "        print(\"no such operation\")\n",
    "        raise AttributeError(\"no such operation\")\n",
    "    return Interface"
   ]
  },
  {
   "cell_type": "markdown",
   "metadata": {},
   "source": [
    "---"
   ]
  },
  {
   "cell_type": "markdown",
   "metadata": {},
   "source": [
    "## Problem 2:  Linear Regression Class\n",
    "\n",
    "Let's say you want to create Python classes for three related types of linear regression: Ordinary Least Squares Linear Regression, Ridge Regression, and Lasso Regression. "
   ]
  },
  {
   "cell_type": "markdown",
   "metadata": {},
   "source": [
    "Consider the multivariate linear model:\n",
    "\n",
    "$$y = X\\beta + \\epsilon$$\n",
    "\n",
    "where $y$ is a length $n$ vector, $X$ is an $m \\times p$ matrix, and $\\beta$\n",
    "is a $p$ length vector of coefficients.\n",
    "\n",
    "#### Ordinary Least Squares Linear Regression\n",
    "\n",
    "[OLS Regression](https://en.wikipedia.org/wiki/Ordinary_least_squares) seeks to minimize the following cost function:\n",
    "\n",
    "$$\\|y - \\beta\\mathbf {X}\\|^{2}$$\n",
    "\n",
    "The best fit coefficients can be obtained by:\n",
    "\n",
    "$$\\hat{\\beta} = (X^T X)^{-1}X^Ty$$\n",
    "\n",
    "where $X^T$ is the transpose of the matrix $X$ and $X^{-1}$ is the inverse of the matrix $X$.\n",
    "\n",
    "#### Ridge Regression\n",
    "\n",
    "[Ridge Regression](https://en.wikipedia.org/wiki/Tikhonov_regularization) introduces an L2 regularization term to the cost function:\n",
    "\n",
    "$$\\|y - \\beta\\mathbf {X}\\|^{2}+\\|\\Gamma \\mathbf {x} \\|^{2}$$\n",
    "\n",
    "Where $\\Gamma = \\alpha I$ for some constant $\\alpha$ and the identity matrix $I$.\n",
    "\n",
    "The best fit coefficients can be obtained by:\n",
    "$$\\hat{\\beta} = (X^T X+\\Gamma^T\\Gamma)^{-1}X^Ty$$\n",
    "\n",
    "#### Lasso Regression\n",
    "\n",
    "[Lasso Regression](https://en.wikipedia.org/wiki/Lasso_%28statistics%29) introduces an L1 regularization term and restricts the total number of predictor variables in the model.\n",
    "The following cost function:\n",
    "$${\\displaystyle \\min _{\\beta _{0},\\beta }\\left\\{{\\frac {1}{m}}\\left\\|y-\\beta _{0}-X\\beta \\right\\|_{2}^{2}\\right\\}{\\text{ subject to }}\\|\\beta \\|_{1}\\leq \\alpha.}$$\n",
    "\n",
    "does not have a nice closed form solution. For the sake of this exercise, you may use the [sklearn.linear_model.Lasso](http://scikit-learn.org/stable/modules/generated/sklearn.linear_model.Lasso.html) class, which uses a coordinate descent algorithm to find the best fit. You should only use the class in the fit() method of this exercise (ie. do not re-use the sklearn for other methods in your class).\n",
    "\n",
    "#### $R^2$ score\n",
    "\n",
    "The $R^2$ score is defined as:\n",
    "$${R^{2} = {1-{SS_E \\over SS_T}}}$$\n",
    "\n",
    "Where:\n",
    "\n",
    "$$SS_T=\\sum_i (y_i-\\bar{y})^2, SS_R=\\sum_i (\\hat{y_i}-\\bar{y})^2, SS_E=\\sum_i (y_i - \\hat{y_i})^2$$\n",
    "\n",
    "where  ${y_i}$ are the original data values, $\\hat{y_i}$ are the predicted values, and $\\bar{y_i}$ is the mean of the original data values."
   ]
  },
  {
   "cell_type": "markdown",
   "metadata": {},
   "source": [
    "### Part 1:  Base Class\n",
    "Write a class called `Regression` with the following methods:\n",
    "\n",
    "$fit(X, y)$: Fits linear model to $X$ and $y$.\n",
    "\n",
    "$get\\_params()$: Returns $\\hat{\\beta}$ for the fitted model. The parameters should be stored in a dictionary.\n",
    "\n",
    "$predict(X)$: Predict new values with the fitted model given $X$.\n",
    "\n",
    "$score(X, y)$: Returns $R^2$ value of the fitted model.\n",
    "\n",
    "$set\\_params()$: Manually set the parameters of the linear model.\n",
    "\n",
    "This parent class should throw a `NotImplementedError` for methods that are intended to be implemented by subclasses."
   ]
  },
  {
   "cell_type": "code",
   "execution_count": 133,
   "metadata": {},
   "outputs": [],
   "source": [
    "class Regression():\n",
    "    def __init__(self,X,y):\n",
    "        self.X=X\n",
    "        self.y=y\n",
    "        self.alpha=0.1\n",
    "    def fit(self,X,y):\n",
    "        return\n",
    "    def get_params(self):\n",
    "        return self.beta\n",
    "    def predict(self,X):\n",
    "        import numpy as np\n",
    "        return np.dot(X,self.beta) \n",
    "    def score(self,X,y):\n",
    "        return 1-np.sum((y-self.predict(X))**2)/np.sum((y-np.mean(y))**2)\n",
    "    def set_params(self,alpha):\n",
    "        self.alpha=alpha"
   ]
  },
  {
   "cell_type": "markdown",
   "metadata": {},
   "source": [
    "### Part 2: OLS Linear Regression\n",
    "\n",
    "Write a class called `OLSRegression` that implements the OLS Regression model described above and inherits the `Regression` class."
   ]
  },
  {
   "cell_type": "code",
   "execution_count": 134,
   "metadata": {},
   "outputs": [],
   "source": [
    "class OLSRegression(Regression):\n",
    "    def fit(self):\n",
    "        import numpy as np\n",
    "        X=self.X\n",
    "        y=self.y\n",
    "        self.beta=np.dot(np.dot(np.linalg.pinv(np.dot(np.transpose(X),X)),np.transpose(X)),y)\n"
   ]
  },
  {
   "cell_type": "code",
   "execution_count": 135,
   "metadata": {},
   "outputs": [
    {
     "data": {
      "text/plain": [
       "array([[ 1.23076923],\n",
       "       [ 1.84615385]])"
      ]
     },
     "execution_count": 135,
     "metadata": {},
     "output_type": "execute_result"
    }
   ],
   "source": [
    "ols1=OLSRegression([[2],[3]],[[1],[2]])\n",
    "ols1.fit()\n",
    "ols1.predict([[2],[3]])\n"
   ]
  },
  {
   "cell_type": "code",
   "execution_count": 136,
   "metadata": {},
   "outputs": [],
   "source": [
    "X=[[2],[3]]\n",
    "y=[[1],[2]]\n",
    "beta=np.dot(np.dot(np.linalg.pinv(np.dot(np.transpose(X),X)),np.transpose(X)),y)\n",
    "\n"
   ]
  },
  {
   "cell_type": "markdown",
   "metadata": {},
   "source": [
    "### Part 3: Ridge Regression\n",
    "\n",
    "Write a class called `RidgeRegression` that implements Ridge Regression and inherits the `OLSRegression` class."
   ]
  },
  {
   "cell_type": "code",
   "execution_count": 137,
   "metadata": {
    "collapsed": true
   },
   "outputs": [],
   "source": [
    "class RidgeRegression(Regression):\n",
    "    def fit(self):\n",
    "        import numpy as np\n",
    "        X=self.X\n",
    "        y=self.y\n",
    "        self.beta=np.dot(np.dot(np.linalg.pinv(np.dot(np.transpose(X),X)+self.alpha**2),np.transpose(X)),y)\n",
    "        return"
   ]
  },
  {
   "cell_type": "code",
   "execution_count": 167,
   "metadata": {},
   "outputs": [
    {
     "data": {
      "text/plain": [
       "array([[ 1.22982321],\n",
       "       [ 1.84473482]])"
      ]
     },
     "execution_count": 167,
     "metadata": {},
     "output_type": "execute_result"
    }
   ],
   "source": [
    "ridge1=RidgeRegression([[2],[3]],[[1],[2]])\n",
    "ridge1.fit()\n",
    "ridge1.predict([[2],[3]])"
   ]
  },
  {
   "cell_type": "code",
   "execution_count": 168,
   "metadata": {},
   "outputs": [
    {
     "data": {
      "text/plain": [
       "0.84614802898024988"
      ]
     },
     "execution_count": 168,
     "metadata": {},
     "output_type": "execute_result"
    }
   ],
   "source": [
    "ridge1.score([[2],[3]],[[1],[2]])\n"
   ]
  },
  {
   "cell_type": "markdown",
   "metadata": {},
   "source": [
    "### Part 3: Lasso Regression\n",
    "\n",
    "Write a class called `LassoRegression` that implements Lasso Regression and inherits the `OLSRegression` class. You should only use Lasso(), Lasso.fit(), Lasso.coef_, and Lasso._intercept from the `sklearn.linear_model.Lasso` class."
   ]
  },
  {
   "cell_type": "code",
   "execution_count": 140,
   "metadata": {
    "collapsed": true
   },
   "outputs": [],
   "source": [
    "class LassoRegression(Regression):\n",
    "    def fit(self):\n",
    "        from sklearn.linear_model import Lasso\n",
    "        myLs=Lasso(self.alpha,fit_intercept=False)\n",
    "        myLs.fit(self.X,self.y) \n",
    "        self.beta=myLs.coef_.reshape((-1,1))\n",
    "        self.beta0=myLs.intercept_  \n",
    "        return\n",
    "    def predict(self,X):\n",
    "        import numpy as np\n",
    "        return np.dot(X,self.beta)+self.beta0"
   ]
  },
  {
   "cell_type": "code",
   "execution_count": 165,
   "metadata": {},
   "outputs": [
    {
     "data": {
      "text/plain": [
       "array([[ 1.2],\n",
       "       [ 1.8]])"
      ]
     },
     "execution_count": 165,
     "metadata": {},
     "output_type": "execute_result"
    }
   ],
   "source": [
    "lasso1=LassoRegression([[2],[3]],[[1],[2]])\n",
    "lasso1.fit()\n",
    "lasso1.predict([[2],[3]])"
   ]
  },
  {
   "cell_type": "code",
   "execution_count": 166,
   "metadata": {},
   "outputs": [
    {
     "data": {
      "text/plain": [
       "0.83999999999999986"
      ]
     },
     "execution_count": 166,
     "metadata": {},
     "output_type": "execute_result"
    }
   ],
   "source": [
    "lasso1.score([[2],[3]],[[1],[2]])"
   ]
  },
  {
   "cell_type": "code",
   "execution_count": 143,
   "metadata": {},
   "outputs": [
    {
     "name": "stdout",
     "output_type": "stream",
     "text": [
      "[[ 0.]]\n",
      "[ 1.]\n"
     ]
    }
   ],
   "source": [
    "from sklearn.linear_model import Lasso\n",
    "myLs=Lasso(alpha=0.1)\n",
    "myLs.fit([[2],[3]],[[1],[1]])\n",
    "beta=np.array(myLs.coef_)\n",
    "print(beta.reshape((-1,1)))\n",
    "beta0=myLs.intercept_\n",
    "print(beta0)"
   ]
  },
  {
   "cell_type": "markdown",
   "metadata": {},
   "source": [
    "### Part 4: Model Scoring\n",
    "You will use the [Boston dataset](http://scikit-learn.org/stable/modules/generated/sklearn.datasets.load_boston.html) for this part.\n",
    "\n",
    "Instantiate each of the three models above.  Using a for loop, fit (on the training data) and score (on the testing data) each model on the Boston dataset.  \n",
    "\n",
    "Print out the $R^2$ value for each model and the parameters for the best model using the `get_params()` method. Use an $\\alpha$ value of 0.1.\n",
    "\n",
    "**Hint:**  You can consider using the `sklearn.model_selection.train_test_split` method to create the training and test datasets."
   ]
  },
  {
   "cell_type": "code",
   "execution_count": 164,
   "metadata": {},
   "outputs": [
    {
     "name": "stdout",
     "output_type": "stream",
     "text": [
      "OLS score: 0.606485823238\n",
      "ridge score: 0.608592754167\n",
      "lasso score: 0.697006652194\n",
      "0.606485823238 0.608592754167 0.697006652194\n"
     ]
    },
    {
     "name": "stderr",
     "output_type": "stream",
     "text": [
      "/Users/zhaiyi/anaconda/lib/python3.6/site-packages/sklearn/linear_model/coordinate_descent.py:484: ConvergenceWarning: Objective did not converge. You might want to increase the number of iterations. Fitting data with very small alpha may cause precision problems.\n",
      "  ConvergenceWarning)\n"
     ]
    },
    {
     "data": {
      "text/plain": [
       "array([[  1.19203063e+01],\n",
       "       [ -9.41690519e-02],\n",
       "       [  7.61203299e-02],\n",
       "       [ -1.36243815e-01],\n",
       "       [  3.61230271e+00],\n",
       "       [ -0.00000000e+00],\n",
       "       [  3.42046474e+00],\n",
       "       [  2.77671698e-02],\n",
       "       [ -9.73532269e-01],\n",
       "       [  1.39541565e-01],\n",
       "       [ -3.60288810e-03],\n",
       "       [ -2.88339075e-01],\n",
       "       [  1.17300186e-02],\n",
       "       [ -6.21041032e-01]])"
      ]
     },
     "execution_count": 164,
     "metadata": {},
     "output_type": "execute_result"
    }
   ],
   "source": [
    "from sklearn.datasets import load_boston\n",
    "from sklearn.model_selection import KFold\n",
    "from sklearn.metrics import r2_score\n",
    "import statsmodels.api as sm\n",
    "import numpy as np\n",
    "boston=load_boston()\n",
    "boston_x=boston.data\n",
    "boston_y=boston.target\n",
    "\n",
    "kf=KFold(n_splits=2)\n",
    "kf.get_n_splits(boston)\n",
    "ols1_m=0\n",
    "ridge1_m=0\n",
    "lasso1_m=0\n",
    "\n",
    "for train_index, test_index in kf.split(boston_x):\n",
    "    \n",
    "    X_train, X_test = boston_x[train_index], boston_x[test_index]\n",
    "    y_train, y_test = boston_y[train_index], boston_y[test_index]\n",
    "    \n",
    "    y_train=y_train.reshape(-1,1)\n",
    "    y_test=y_test.reshape(-1,1)\n",
    "    \n",
    "    \n",
    "\n",
    "    ols1=OLSRegression(sm.add_constant(X_train),y_train)\n",
    "    ols1.fit()\n",
    "    ols1_m+=ols1.score(sm.add_constant(X_test),y_test)\n",
    "    print(\"OLS score:\",ols1.score(sm.add_constant(X_test),y_test))\n",
    "\n",
    "    ridge1=RidgeRegression(sm.add_constant(X_train),y_train)\n",
    "    ridge1.fit()\n",
    "    ridge1_m+=ridge1.score(sm.add_constant(X_test),y_test)\n",
    "    print(\"ridge score:\",ridge1.score(sm.add_constant(X_test),y_test))\n",
    "    \n",
    "    lasso1=LassoRegression(sm.add_constant(X_train),y_train)\n",
    "    lasso1.fit()\n",
    "    lasso1_m+=lasso1.score(sm.add_constant(X_test),y_test)\n",
    "    print(\"lasso score:\",lasso1.score(sm.add_constant(X_test),y_test))\n",
    "    \n",
    "    break\n",
    "    \n",
    "print(ols1_m,ridge1_m,lasso1_m)\n",
    "    \n",
    "lasso1.get_params()    \n"
   ]
  },
  {
   "cell_type": "markdown",
   "metadata": {},
   "source": [
    "### Part 5: Visualize Model Performance\n",
    "\n",
    "We can evaluate how the models perform for various values of $\\alpha$. Calculate the $R^2$ scores for each model for  $\\alpha \\in [0.05, 1]$ and plot the three lines on the same graph. To change the parameters, use the `set_params()` method. Be sure to label each line and add axis labels."
   ]
  },
  {
   "cell_type": "code",
   "execution_count": 172,
   "metadata": {},
   "outputs": [
    {
     "name": "stderr",
     "output_type": "stream",
     "text": [
      "/Users/zhaiyi/anaconda/lib/python3.6/site-packages/sklearn/linear_model/coordinate_descent.py:484: ConvergenceWarning: Objective did not converge. You might want to increase the number of iterations. Fitting data with very small alpha may cause precision problems.\n",
      "  ConvergenceWarning)\n"
     ]
    }
   ],
   "source": [
    "ols_r=[]\n",
    "ridge_r=[]\n",
    "lasso_r=[]\n",
    "alpha_l=[]\n",
    "for alpha_100 in range(5,100,5):\n",
    "    alpha=alpha_100/100\n",
    "    alpha_l.append(alpha)\n",
    "    for train_index, test_index in kf.split(boston_x):\n",
    "    \n",
    "        X_train, X_test = boston_x[train_index], boston_x[test_index]\n",
    "        y_train, y_test = boston_y[train_index], boston_y[test_index]\n",
    "    \n",
    "        y_train=y_train.reshape(-1,1)\n",
    "        y_test=y_test.reshape(-1,1)\n",
    "\n",
    "        ols1=OLSRegression(sm.add_constant(X_train),y_train)\n",
    "        ols1.set_params(alpha)\n",
    "        ols1.fit()\n",
    "        ols_r.append(ols1.score(sm.add_constant(X_test),y_test))\n",
    "        \n",
    "        ridge1=RidgeRegression(sm.add_constant(X_train),y_train)\n",
    "        ridge1.set_params(alpha)\n",
    "        ridge1.fit()\n",
    "        ridge_r.append(ridge1.score(sm.add_constant(X_test),y_test))\n",
    "         \n",
    "    \n",
    "        lasso1=LassoRegression(sm.add_constant(X_train),y_train)\n",
    "        lasso1.set_params(alpha)\n",
    "        lasso1.fit()\n",
    "        lasso_r.append(lasso1.score(sm.add_constant(X_test),y_test))\n",
    "    \n",
    "        break\n",
    " "
   ]
  },
  {
   "cell_type": "code",
   "execution_count": 173,
   "metadata": {},
   "outputs": [
    {
     "data": {
      "image/png": "[encoded data removed]",
      "text/plain": [
       "<matplotlib.figure.Figure at 0x11b196518>"
      ]
     },
     "metadata": {},
     "output_type": "display_data"
    }
   ],
   "source": [
    "import matplotlib.pyplot as plt\n",
    "plt.plot(alpha_l,ols_r,label=\"linear regression\")\n",
    "plt.plot(alpha_l,ridge_r,label=\"ridge\")\n",
    "plt.plot(alpha_l,lasso_r,label=\"lasso\")\n",
    "plt.xlabel(\"alpha\")\n",
    "plt.ylabel(\"$R^{2}$\")\n",
    "plt.title(\"the relation of R squared with alpha\")\n",
    "plt.legend()\n",
    "plt.show()"
   ]
  },
  {
   "cell_type": "code",
   "execution_count": null,
   "metadata": {
    "collapsed": true
   },
   "outputs": [],
   "source": []
  },
  {
   "cell_type": "code",
   "execution_count": null,
   "metadata": {
    "collapsed": true
   },
   "outputs": [],
   "source": []
  }
 ],
 "metadata": {
  "kernelspec": {
   "display_name": "Python 3",
   "language": "python",
   "name": "python3"
  }
 },
 "nbformat": 4,
 "nbformat_minor": 2
}
