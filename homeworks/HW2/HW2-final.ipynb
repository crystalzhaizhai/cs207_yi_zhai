{
 "cells": [
  {
   "cell_type": "markdown",
   "metadata": {},
   "source": [
    "# I like CS207\n",
    "\n",
    "### This homework is useful\n"
   ]
  },
  {
   "cell_type": "markdown",
   "metadata": {},
   "source": [
    "1. item1\n",
    "2. item2\n",
    " \n",
    "\n",
    "* item3\n",
    "+ item4\n",
    "- item5\n",
    "\n",
    "[This is a link to my personal profile](http://zhaiyi.win \"ZHAI Yi's Profile\")\n",
    "\n",
    "I| have chosen|4 courses\n",
    "---:|:---:|:---\n",
    "1|2|3\n",
    "4|5|6"
   ]
  },
  {
   "cell_type": "code",
   "execution_count": null,
   "metadata": {
    "collapsed": true
   },
   "outputs": [],
   "source": []
  }
 ],
 "metadata": {
  "kernelspec": {
   "display_name": "Python 3",
   "language": "python",
   "name": "python3"
  },
  "language_info": {
   "codemirror_mode": {
    "name": "ipython",
    "version": 3
   },
   "file_extension": ".py",
   "mimetype": "text/x-python",
   "name": "python",
   "nbconvert_exporter": "python",
   "pygments_lexer": "ipython3",
   "version": "3.6.1"
  }
 },
 "nbformat": 4,
 "nbformat_minor": 2
}
