{
 "cells": [
  {
   "cell_type": "markdown",
   "metadata": {},
   "source": [
    "# Homework 5\n",
    "## Due Date:  Tuesday, October 3rd at 11:59 PM"
   ]
  },
  {
   "cell_type": "markdown",
   "metadata": {},
   "source": [
    "# Problem 1\n",
    "We discussed documentation and testing in lecture and also briefly touched on code coverage.  You must write tests for your code for your final project (and in life).  There is a nice way to automate the testing process called continuous integration (CI).\n",
    "\n",
    "This problem will walk you through the basics of CI and show you how to get up and running with some CI software."
   ]
  },
  {
   "cell_type": "markdown",
   "metadata": {},
   "source": [
    "### Continuous Integration\n",
    "The idea behind continuous integration is to automate away the testing of your code.\n",
    "\n",
    "We will be using it for our projects.\n",
    "\n",
    "The basic workflow goes something like this:\n",
    "\n",
    "1. You work on your part of the code in your own branch or fork\n",
    "2. On every commit you make and push to GitHub, your code is automatically tested on a fresh machine on Travis CI. This ensures that there are no specific dependencies on the structure of your machine that your code needs to run and also ensures that your changes are sane\n",
    "3. Now you submit a pull request to `master` in the main repo (the one you're hoping to contribute to). The repo manager creates a branch off `master`. \n",
    "4. This branch is also set to run tests on Travis. If all tests pass, then the pull request is accepted and your code becomes part of master.\n",
    "\n",
    "We use GitHub to integrate our roots library with Travis CI and Coveralls. Note that this is not the only workflow people use. Google git..github..workflow and feel free to choose another one for your group."
   ]
  },
  {
   "cell_type": "markdown",
   "metadata": {},
   "source": [
    "### Part 1:  Create a repo\n",
    "Create a public GitHub repo called `cs207test` and clone it to your local machine.\n",
    "\n",
    "**Note:** No need to do this in Jupyter."
   ]
  },
  {
   "cell_type": "markdown",
   "metadata": {},
   "source": [
    "### Part 2:  Create a roots library\n",
    "Use the example from lecture 7 to create a file called `roots.py`, which contains the `quad_roots` and `linear_roots` functions (along with their documentation).\n",
    "\n",
    "Also create a file called `test_roots.py`, which contains the tests from lecture.\n",
    "\n",
    "All of these files should be in your newly created `cs207test` repo.  **Don't push yet!!!**"
   ]
  },
  {
   "cell_type": "code",
   "execution_count": 1,
   "metadata": {},
   "outputs": [
    {
     "name": "stdout",
     "output_type": "stream",
     "text": [
      "Overwriting roots.py\n"
     ]
    }
   ],
   "source": [
    "%%file roots.py\n",
    "\n",
    "def quad_roots(a=1.0, b=2.0, c=0.0): \n",
    "    \"\"\"Returns the roots of a quadratic equation: ax^2 + bx + c = 0.\n",
    "    \n",
    "    INPUTS\n",
    "    =======\n",
    "    a: float, optional, default value is 1\n",
    "        Coefficient of quadratic term\n",
    "    b: float, optional, default value is 2\n",
    "        Coefficient of linear term\n",
    "    c: float, optional, default value is 0\n",
    "        Constant term\n",
    "    \n",
    "    RETURNS\n",
    "    ========\n",
    "    roots: 2-tuple of complex floats\n",
    "        Has the form (root1, root2) unless a = 0 \n",
    "        in which case a ValueError exception is raised\n",
    "    \n",
    "    EXAMPLES\n",
    "    =========\n",
    "    >>> quad_roots(1.0, 1.0, -12.0)\n",
    "    ((3+0j), (-4+0j))\n",
    "    \"\"\"\n",
    "    import cmath # Can return complex numbers from square roots\n",
    "    if a == 0:\n",
    "        raise ValueError(\"The quadratic coefficient is zero.  This is not a quadratic equation.\")\n",
    "    else:\n",
    "        sqrtdisc = cmath.sqrt(b * b - 4.0 * a * c)\n",
    "        r1 = -b + sqrtdisc\n",
    "        r2 = -b - sqrtdisc\n",
    "        return (r1 / 2.0 / a, r2 / 2.0 / a)\n"
   ]
  },
  {
   "cell_type": "code",
   "execution_count": 2,
   "metadata": {},
   "outputs": [
    {
     "name": "stdout",
     "output_type": "stream",
     "text": [
      "Overwriting test_roots.py\n"
     ]
    }
   ],
   "source": [
    "%%file test_roots.py\n",
    "import roots\n",
    "\n",
    "def test_quadroots_result():\n",
    "    assert roots.quad_roots(1.0, 1.0, -12.0) == ((3+0j), (-4+0j))\n",
    "\n",
    "def test_quadroots_types():\n",
    "    try:\n",
    "        roots.quad_roots(\"\", \"green\", \"hi\")\n",
    "    except TypeError as err:\n",
    "        assert(type(err) == TypeError)\n",
    "\n",
    "def test_quadroots_zerocoeff():\n",
    "    try:\n",
    "        roots.quad_roots(a=0.0)\n",
    "    except ValueError as err:\n",
    "        assert(type(err) == ValueError)"
   ]
  },
  {
   "cell_type": "code",
   "execution_count": 3,
   "metadata": {},
   "outputs": [
    {
     "name": "stdout",
     "output_type": "stream",
     "text": [
      "\u001b[1m============================= test session starts ==============================\u001b[0m\n",
      "platform darwin -- Python 3.6.1, pytest-3.0.7, py-1.4.33, pluggy-0.4.0\n",
      "rootdir: /Users/zhaiyi/cs207test, inifile: setup.cfg\n",
      "plugins: cov-2.5.1\n",
      "collected 9 items \u001b[0m\u001b[1m\u001b[1m\n",
      "\u001b[0m\n",
      "progress_rate.py .\n",
      "progress_test.py ....\n",
      "roots.py .\n",
      "test_roots.py ...\n",
      "\n",
      "---------- coverage: platform darwin, python 3.6.1-final-0 -----------\n",
      "Name                 Stmts   Miss  Cover   Missing\n",
      "--------------------------------------------------\n",
      "chemkin.py              27     25     7%   3-28\n",
      "progress_rate.py        14      0   100%\n",
      "progress_test.py        34      0   100%\n",
      "reaction_coeffs.py      17     13    24%   3, 5-11, 13-18\n",
      "reaction_rate1.py       28     25    11%   4-29\n",
      "reaction_test1.py       44     37    16%   4-8, 11-18, 21-28, 31-38, 40-47\n",
      "roots.py                 8      0   100%\n",
      "test_roots.py           13      0   100%\n",
      "--------------------------------------------------\n",
      "TOTAL                  185    100    46%\n",
      "\n",
      "\n",
      "\u001b[32m\u001b[1m=========================== 9 passed in 0.35 seconds ===========================\u001b[0m\n"
     ]
    }
   ],
   "source": [
    "!pytest --cov"
   ]
  },
  {
   "cell_type": "markdown",
   "metadata": {},
   "source": [
    "### Part 3:  Create an account on Travis CI and Start Building\n",
    "\n",
    "#### Part A:\n",
    "Create an account on Travis CI and set your `cs207test` repo up for continuous integration once this repo can be seen on Travis.\n",
    "\n",
    "#### Part B:\n",
    "Create an instruction to Travis to make sure that\n",
    "\n",
    "1. python is installed\n",
    "2. its python 3.5\n",
    "3. pytest is installed\n",
    "\n",
    "The file should be called `.travis.yml` and should have the contents:\n",
    "```yml\n",
    "language: python\n",
    "python:\n",
    "    - \"3.5\"\n",
    "before_install:\n",
    "    - pip install pytest pytest-cov\n",
    "script:\n",
    "    - pytest\n",
    "```\n",
    "\n",
    "You should also create a configuration file called `setup.cfg`:\n",
    "```cfg\n",
    "[tool:pytest]\n",
    "addopts = --doctest-modules --cov-report term-missing --cov roots\n",
    "```\n",
    "\n",
    "#### Part C:\n",
    "Push the new changes to your `cs207test` repo.\n",
    "\n",
    "At this point you should be able to see your build on Travis and if and how your tests pass."
   ]
  },
  {
   "cell_type": "code",
   "execution_count": 8,
   "metadata": {},
   "outputs": [
    {
     "name": "stdout",
     "output_type": "stream",
     "text": [
      "Overwriting .travis.yml\n"
     ]
    }
   ],
   "source": [
    "%%file .travis.yml\n",
    "language: python\n",
    "python:\n",
    "    - \"3.5\"\n",
    "before_install:\n",
    "    - pip install pytest pytest-cov\n",
    "script:\n",
    "    - pytest"
   ]
  },
  {
   "cell_type": "code",
   "execution_count": 9,
   "metadata": {},
   "outputs": [
    {
     "name": "stdout",
     "output_type": "stream",
     "text": [
      "Overwriting setup.cfg\n"
     ]
    }
   ],
   "source": [
    "%%file setup.cfg\n",
    "[tool:pytest]\n",
    "addopts = --doctest-modules --cov-report term-missing --cov roots"
   ]
  },
  {
   "cell_type": "markdown",
   "metadata": {},
   "source": [
    "### Part 4:  Coveralls Integration\n",
    "In class, we also discussed code coverage.  Just like Travis CI runs tests automatically for you, Coveralls automatically checks your code coverage.  One minor drawback of Coveralls is that it can only work with public GitHub accounts.  However, this isn't too big of a problem since your projects will be public.\n",
    "\n",
    "#### Part A:\n",
    "Create an account on [`Coveralls`](https://coveralls.zendesk.com/hc/en-us), connect your GitHub, and turn Coveralls integration on.\n",
    "\n",
    "#### Part B:\n",
    "Update your the `.travis.yml` file as follows:\n",
    "```yml\n",
    "language: python\n",
    "python:\n",
    "    - \"3.5\"\n",
    "before_install:\n",
    "    - pip install pytest pytest-cov\n",
    "    - pip install coveralls\n",
    "script:\n",
    "    - py.test\n",
    "after_success:\n",
    "    - coveralls\n",
    "```\n",
    "\n",
    "Be sure to push the latest changes to your new repo."
   ]
  },
  {
   "cell_type": "code",
   "execution_count": 10,
   "metadata": {},
   "outputs": [
    {
     "name": "stdout",
     "output_type": "stream",
     "text": [
      "Overwriting .travis.yml\n"
     ]
    }
   ],
   "source": [
    "%%file .travis.yml\n",
    "language: python\n",
    "python:\n",
    "    - \"3.5\"\n",
    "before_install:\n",
    "    - pip install pytest pytest-cov\n",
    "    - pip install coveralls\n",
    "script:\n",
    "    - py.test\n",
    "after_success:\n",
    "    - coveralls\n"
   ]
  },
  {
   "cell_type": "markdown",
   "metadata": {},
   "source": [
    "### Part 5:  Update README.md in repo\n",
    "You can have your GitHub repo reflect the build status on Travis CI and the code coverage status from Coveralls.  To do this, you should modify the `README.md` file in your repo to include some badges.  Put the following at the top of your `README.md` file:\n",
    "\n",
    "```\n",
    "[![Build Status](https://travis-ci.org/dsondak/cs207testing.svg?branch=master)](https://travis-ci.org/dsondak/cs207testing.svg?branch=master)\n",
    "\n",
    "[![Coverage Status](https://coveralls.io/repos/github/dsondak/cs207testing/badge.svg?branch=master)](https://coveralls.io/github/dsondak/cs207testing?branch=master)\n",
    "```\n",
    "\n",
    "Of course, you need to make sure that the links are to your repo and not mine.  You can find embed code on the Coveralls and Travis CI sites."
   ]
  },
  {
   "cell_type": "code",
   "execution_count": 11,
   "metadata": {},
   "outputs": [
    {
     "name": "stdout",
     "output_type": "stream",
     "text": [
      "Overwriting README.md\n"
     ]
    }
   ],
   "source": [
    "%%file README.md\n",
    "[![Build Status](https://travis-ci.org/crystalzhaizhai/cs207testing.svg?branch=master)](https://travis-ci.org/crystalzhaizhai/cs207testing.svg?branch=master)\n",
    "\n",
    "[![Coverage Status](https://coveralls.io/repos/github/crystalzhaizhai/cs207testing/badge.svg?branch=master)](https://coveralls.io/github/crystalzhaizhai/cs207testing?branch=master)"
   ]
  },
  {
   "cell_type": "markdown",
   "metadata": {},
   "source": [
    "---\n",
    "\n",
    "# Problem 2\n",
    "Write a Python module for reaction rate coefficients.  Your module should include functions for constant reaction rate coefficients, Arrhenius reaction rate coefficients, and modified Arrhenius reaction rate coefficients.  Here are their mathematical forms:\n",
    "\\begin{align}\n",
    "  &k_{\\textrm{const}}   = k \\tag{constant} \\\\\n",
    "  &k_{\\textrm{arr}}     = A \\exp\\left(-\\frac{E}{RT}\\right) \\tag{Arrhenius} \\\\\n",
    "  &k_{\\textrm{mod arr}} = A T^{b} \\exp\\left(-\\frac{E}{RT}\\right) \\tag{Modified Arrhenius}\n",
    "\\end{align}\n",
    "\n",
    "Test your functions with the following paramters:  $A = 10^7$, $b=0.5$, $E=10^3$.  Use $T=10^2$.\n",
    "\n",
    "A few additional comments / suggestions:\n",
    "* The Arrhenius prefactor $A$ is strictly positive\n",
    "* The modified Arrhenius parameter $b$ must be real \n",
    "* $R = 8.314$ is the ideal gas constant.  It should never be changed (except to convert units)\n",
    "* The temperature $T$ must be positive (assuming a Kelvin scale)\n",
    "* You may assume that units are consistent\n",
    "* Document each function!\n",
    "* You might want to check for overflows and underflows\n",
    "\n",
    "**Recall:** A Python module is a `.py` file which is not part of the main execution script.  The module contains several functions which may be related to each other (like in this problem).  Your module will be importable via the execution script.  For example, suppose you have called your module `reaction_coeffs.py` and your execution script `kinetics.py`.  Inside of `kinetics.py` you will write something like:\n",
    "```python\n",
    "import reaction_coeffs\n",
    "# Some code to do some things\n",
    "# :\n",
    "# :\n",
    "# :\n",
    "# Time to use a reaction rate coefficient:\n",
    "reaction_coeffs.const() # Need appropriate arguments, etc\n",
    "# Continue on...\n",
    "# :\n",
    "# :\n",
    "# :\n",
    "```\n",
    "Be sure to include your module in the same directory as your execution script."
   ]
  },
  {
   "cell_type": "code",
   "execution_count": 12,
   "metadata": {},
   "outputs": [
    {
     "name": "stdout",
     "output_type": "stream",
     "text": [
      "Overwriting reaction_coeffs.py\n"
     ]
    }
   ],
   "source": [
    "%%file reaction_coeffs.py\n",
    "from math import exp\n",
    "def k_constant(k):\n",
    "    return k\n",
    "def k_arr(a,e,t):\n",
    "    r=8.314\n",
    "    if a<= 0:\n",
    "        raise ValueError(\"a<0!\")\n",
    "    if t<= 0:\n",
    "        raise ValueError(\"t<0!\")\n",
    "\n",
    "    return (a*exp(-e/(r*t)))\n",
    "def k_mod_arr(a,e,t,b):\n",
    "    r=8.314\n",
    "    if a<= 0:\n",
    "        raise ValueError(\"a<0!\")\n",
    "    if t<= 0:\n",
    "        raise ValueError(\"t<0!\")\n",
    "    return (a*(t**b)*exp(-e/(r*t)))\n"
   ]
  },
  {
   "cell_type": "code",
   "execution_count": 13,
   "metadata": {
    "collapsed": true
   },
   "outputs": [],
   "source": [
    "import reaction_coeffs as rc\n",
    "    "
   ]
  },
  {
   "cell_type": "code",
   "execution_count": 14,
   "metadata": {},
   "outputs": [
    {
     "name": "stdout",
     "output_type": "stream",
     "text": [
      "3003549.088963961\n",
      "30035490.88963961\n",
      "3003549.088963961\n"
     ]
    }
   ],
   "source": [
    "\n",
    "a=10**7\n",
    "b=0.5\n",
    "e=10**3\n",
    "t=10**2\n",
    "print(rc.k_arr(a,e,t))\n",
    "print(rc.k_mod_arr(a,e,t,b))\n",
    "print(rc.k_constant(rc.k_arr(a,e,t)))\n"
   ]
  },
  {
   "cell_type": "markdown",
   "metadata": {},
   "source": [
    "---\n",
    "\n",
    "# Problem 3\n",
    "Write a function that returns the **progress rate** for a reaction of the following form:\n",
    "\\begin{align}\n",
    "  \\nu_{A} A + \\nu_{B} B \\longrightarrow \\nu_{C} C.\n",
    "\\end{align}\n",
    "Order your concentration vector so that \n",
    "\\begin{align}\n",
    "  \\mathbf{x} = \n",
    "  \\begin{bmatrix}\n",
    "    \\left[A\\right] \\\\\n",
    "    \\left[B\\right] \\\\\n",
    "    \\left[C\\right]\n",
    "  \\end{bmatrix}\n",
    "\\end{align}\n",
    "\n",
    "Test your function with\n",
    "\\begin{align}\n",
    "  \\nu_{i}^{\\prime} = \n",
    "  \\begin{bmatrix}\n",
    "    2.0 \\\\\n",
    "    1.0 \\\\\n",
    "    0.0\n",
    "  \\end{bmatrix}\n",
    "  \\qquad \n",
    "  \\mathbf{x} = \n",
    "  \\begin{bmatrix}\n",
    "    1.0 \\\\ \n",
    "    2.0 \\\\ \n",
    "    3.0\n",
    "  \\end{bmatrix}\n",
    "  \\qquad \n",
    "  k = 10.\n",
    "\\end{align}\n",
    "\n",
    "You must document your function and write some tests in addition to the one suggested.  You choose the additional tests, but you must have at least one doctest in addition to a suite of unit tests."
   ]
  },
  {
   "cell_type": "code",
   "execution_count": 7,
   "metadata": {},
   "outputs": [
    {
     "name": "stdout",
     "output_type": "stream",
     "text": [
      "Overwriting progress_rate.py\n"
     ]
    }
   ],
   "source": [
    "%%file progress_rate.py\n",
    "\n",
    "import numpy as np\n",
    "import copy\n",
    "def progress_rate(x,v,vv,kk):\n",
    "    \"\"\"Returns progression rate of chemical reactoins\n",
    "    \n",
    "    INPUTS\n",
    "    =======\n",
    "    x: array of float\n",
    "        concentration of molecule species\n",
    "    v: array of integers\n",
    "        Coefficient of molecule species on the left side of equation\n",
    "    vv: array of integers\n",
    "        Coefficient of melecule species on the right side of equation\n",
    "    kk: array of float\n",
    "        reaction rate coefficient\n",
    "    \n",
    "    RETURNS\n",
    "    ========\n",
    "    roots: array of floats\n",
    "    \n",
    "    EXAMPLES\n",
    "    =========\n",
    "    >>> progress_rate([[1.0],[2.0],[3.0]],[[2.0],[1.0],[0.0]],[[0],[0],[1]],10)\n",
    "    20.0\n",
    "    \"\"\"\n",
    "    if (kk<0):\n",
    "        raise ValueError(\"k<0\")\n",
    "    if all([i[0]<=0 for i in v]):\n",
    "        raise ValueError(\"no reactants\")\n",
    "    if all([i[0]<=0 for i in vv]):\n",
    "        raise ValueError(\"no products\")\n",
    "    tmp=[x[i][0]**v[i][0] for i in range(len(x))]\n",
    "    w=copy.copy(kk)\n",
    "    for i in range(len(x)):\n",
    "        w*=tmp[i]\n",
    "#     return (np.transpose([np.array([w*(vv[i][0]-v[i][0]) for i in range(len(x))])]))\n",
    "    return(w)"
   ]
  },
  {
   "cell_type": "code",
   "execution_count": 8,
   "metadata": {},
   "outputs": [
    {
     "name": "stdout",
     "output_type": "stream",
     "text": [
      "Overwriting progress_test.py\n"
     ]
    }
   ],
   "source": [
    "%%file progress_test.py\n",
    "import progress_rate as pr\n",
    "def test_normal():\n",
    "    x=[[1.0],[2.0],[3.0]]\n",
    "    v_i_prime=[[2.0],[1.0],[0.0]]\n",
    "    v_i_prime_prime=[[0],[0],[1]]\n",
    "    k=10\n",
    "    assert pr.progress_rate(x,v_i_prime,v_i_prime_prime,k)==20.0\n",
    "def test_k_positive():\n",
    "    try:\n",
    "        x=[[1.0],[2.0],[3.0]]\n",
    "        v_i_prime=[[2.0],[1.0],[0.0]]\n",
    "        v_i_prime_prime=[[0],[0],[1]]\n",
    "        k=-10\n",
    "        pr.progress_rate(x,v_i_prime,v_i_prime_prime,k)\n",
    "    except ValueError as err:\n",
    "        assert(True)\n",
    "def test_reactants():\n",
    "    try:\n",
    "        x=[[1.0],[2.0],[3.0]]\n",
    "        v_i_prime=[[0],[0],[0]]\n",
    "        v_i_prime_prime=[[0],[0],[1]]\n",
    "        k=10\n",
    "        pr.progress_rate(x,v_i_prime,v_i_prime_prime,k)\n",
    "    except ValueError as err:\n",
    "        assert(type(err)==ValueError)\n",
    "\n",
    "def test_products():\n",
    "    try:\n",
    "        x=[[1.0],[2.0],[3.0]]\n",
    "        v_i_prime=[[2],[1],[0.0]]\n",
    "        v_i_prime_prime=[[0],[0],[0]]\n",
    "        k=10\n",
    "        pr.progress_rate(x,v_i_prime,v_i_prime_prime,k)\n",
    "    except ValueError as err:\n",
    "        assert(type(err)==ValueError)"
   ]
  },
  {
   "cell_type": "code",
   "execution_count": 9,
   "metadata": {},
   "outputs": [
    {
     "name": "stdout",
     "output_type": "stream",
     "text": [
      "1 items had no tests:\n",
      "    __main__\n",
      "0 tests in 1 items.\n",
      "0 passed and 0 failed.\n",
      "Test passed.\n"
     ]
    },
    {
     "data": {
      "text/plain": [
       "TestResults(failed=0, attempted=0)"
      ]
     },
     "execution_count": 9,
     "metadata": {},
     "output_type": "execute_result"
    }
   ],
   "source": [
    "import doctest\n",
    "doctest.testmod(verbose=True)"
   ]
  },
  {
   "cell_type": "code",
   "execution_count": 10,
   "metadata": {},
   "outputs": [
    {
     "name": "stdout",
     "output_type": "stream",
     "text": [
      "\u001b[1m============================= test session starts ==============================\u001b[0m\n",
      "platform darwin -- Python 3.6.1, pytest-3.0.7, py-1.4.33, pluggy-0.4.0\n",
      "rootdir: /Users/zhaiyi/cs207test, inifile: setup.cfg\n",
      "plugins: cov-2.5.1\n",
      "collected 9 items \u001b[0m\u001b[1m\n",
      "\u001b[0m\n",
      "progress_rate.py .\n",
      "progress_test.py ....\n",
      "roots.py .\n",
      "test_roots.py ...\n",
      "\n",
      "---------- coverage: platform darwin, python 3.6.1-final-0 -----------\n",
      "Name       Stmts   Miss  Cover   Missing\n",
      "----------------------------------------\n",
      "roots.py       8      0   100%\n",
      "\n",
      "\n",
      "\u001b[32m\u001b[1m=========================== 9 passed in 0.31 seconds ===========================\u001b[0m\n"
     ]
    }
   ],
   "source": [
    "!pytest"
   ]
  },
  {
   "cell_type": "code",
   "execution_count": 11,
   "metadata": {},
   "outputs": [
    {
     "name": "stdout",
     "output_type": "stream",
     "text": [
      "\u001b[1m============================= test session starts ==============================\u001b[0m\n",
      "platform darwin -- Python 3.6.1, pytest-3.0.7, py-1.4.33, pluggy-0.4.0\n",
      "rootdir: /Users/zhaiyi/cs207test, inifile: setup.cfg\n",
      "plugins: cov-2.5.1\n",
      "collected 9 items \u001b[0m\u001b[1m\u001b[1m\n",
      "\u001b[0m\n",
      "progress_rate.py .\n",
      "progress_test.py ....\n",
      "roots.py .\n",
      "test_roots.py ...\n",
      "\n",
      "---------- coverage: platform darwin, python 3.6.1-final-0 -----------\n",
      "Name                 Stmts   Miss  Cover   Missing\n",
      "--------------------------------------------------\n",
      "chemkin.py              27     25     7%   3-28\n",
      "progress_rate.py        14      0   100%\n",
      "progress_test.py        34      0   100%\n",
      "reaction_coeffs.py      17     13    24%   3, 5-11, 13-18\n",
      "reaction_rate1.py       28     25    11%   4-29\n",
      "reaction_test1.py       44     37    16%   4-8, 11-18, 21-28, 31-38, 40-47\n",
      "roots.py                 8      0   100%\n",
      "test_roots.py           13      0   100%\n",
      "--------------------------------------------------\n",
      "TOTAL                  185    100    46%\n",
      "\n",
      "\n",
      "\u001b[32m\u001b[1m=========================== 9 passed in 0.34 seconds ===========================\u001b[0m\n"
     ]
    }
   ],
   "source": [
    "!pytest --cov"
   ]
  },
  {
   "cell_type": "markdown",
   "metadata": {},
   "source": [
    "---\n",
    "# Problem 4\n",
    "Write a function that returns the **progress rate** for a system of reactions of the following form:\n",
    "\\begin{align}\n",
    "  \\nu_{11}^{\\prime} A + \\nu_{21}^{\\prime} B \\longrightarrow \\nu_{31}^{\\prime\\prime} C \\\\\n",
    "  \\nu_{12}^{\\prime} A + \\nu_{32}^{\\prime} C \\longrightarrow \\nu_{22}^{\\prime\\prime} B + \\nu_{32}^{\\prime\\prime} C\n",
    "\\end{align}\n",
    "Note that $\\nu_{ij}^{\\prime}$ represents the stoichiometric coefficient of reactant $i$ in reaction $j$ and $\\nu_{ij}^{\\prime\\prime}$ represents the stoichiometric coefficient of product $i$ in reaction $j$.  Therefore, in this convention, I have ordered my vector of concentrations as \n",
    "\\begin{align}\n",
    "  \\mathbf{x} = \n",
    "  \\begin{bmatrix}\n",
    "    \\left[A\\right] \\\\\n",
    "    \\left[B\\right] \\\\\n",
    "    \\left[C\\right]\n",
    "  \\end{bmatrix}.\n",
    "\\end{align}\n",
    "\n",
    "Test your function with \n",
    "\\begin{align}\n",
    "  \\nu_{ij}^{\\prime} = \n",
    "  \\begin{bmatrix}\n",
    "    1.0 & 2.0 \\\\\n",
    "    2.0 & 0.0 \\\\\n",
    "    0.0 & 2.0\n",
    "  \\end{bmatrix}\n",
    "  \\qquad\n",
    "  \\nu_{ij}^{\\prime\\prime} = \n",
    "  \\begin{bmatrix}\n",
    "    0.0 & 0.0 \\\\\n",
    "    0.0 & 1.0 \\\\\n",
    "    2.0 & 1.0\n",
    "  \\end{bmatrix}\n",
    "  \\qquad\n",
    "  \\mathbf{x} = \n",
    "  \\begin{bmatrix}\n",
    "    1.0 \\\\\n",
    "    2.0 \\\\\n",
    "    1.0\n",
    "  \\end{bmatrix}\n",
    "  \\qquad\n",
    "  k_{j} = 10, \\quad j=1,2.\n",
    "\\end{align}\n",
    "\n",
    "You must document your function and write some tests in addition to the one suggested.  You choose the additional tests, but you must have at least one doctest in addition to a suite of unit tests."
   ]
  },
  {
   "cell_type": "code",
   "execution_count": null,
   "metadata": {
    "collapsed": true
   },
   "outputs": [],
   "source": []
  },
  {
   "cell_type": "code",
   "execution_count": 1,
   "metadata": {},
   "outputs": [
    {
     "name": "stdout",
     "output_type": "stream",
     "text": [
      "Overwriting progress1_rate.py\n"
     ]
    }
   ],
   "source": [
    "%%file progress1_rate.py\n",
    "import numpy as np\n",
    "import copy\n",
    "def progress1_rate(x,v,vv,k):\n",
    "    \"\"\"Returns progress rate of chemical reactoins\n",
    "    \n",
    "    INPUTS\n",
    "    =======\n",
    "    x: array of float\n",
    "        concentration of molecule species\n",
    "    v: array of integers\n",
    "        Coefficient of molecule species on the left side of equation\n",
    "    vv: array of integers\n",
    "        Coefficient of melecule species on the right side of equation\n",
    "    kk: array of float\n",
    "        reaction rate coefficient\n",
    "    \n",
    "    RETURNS\n",
    "    ========\n",
    "    roots: array of floats\n",
    "    \n",
    "    EXAMPLES\n",
    "    =========\n",
    "    >>> progress1_rate(np.array([[1.0],[2.0],[1]]),np.array([[1,2],[2,0],[0,2]]),np.array([[0,0],[0,1],[2,1]]),[10,10])\n",
    "    [40.0, 10.0]\n",
    "    \"\"\"\n",
    "    if (any([kk<0 for kk in k])):\n",
    "        raise ValueError(\"k<0\")\n",
    "    flag=True\n",
    "    for j in range(v.shape[1]):\n",
    "        if all([v[i][j]<=0 for i in range(v.shape[0])]):\n",
    "            flag=False\n",
    "            break \n",
    "    if (flag==False):\n",
    "        raise ValueError(\"no reactants\")\n",
    "    flag=True\n",
    "    for j in range(vv.shape[1]):\n",
    "        if all([vv[i][j]<=0 for i in range(vv.shape[0])]):\n",
    "            flag=False\n",
    "            break \n",
    "    if (flag==False):\n",
    "        raise ValueError(\"no products\")\n",
    "    if x.shape[0]!=v.shape[0] or v.shape!=vv.shape or v.shape[1]!=len(k):\n",
    "        raise ValueError(\"dimensions not match\")\n",
    "    tmp=np.array([x[i][0]**v[i][j] for i in range(v.shape[0]) for j in range(v.shape[1])]).reshape(v.shape)\n",
    "    w=copy.copy(k)\n",
    "    for i in range(len(x)):\n",
    "        for j in range(v.shape[1]):\n",
    "            a=tmp[i][j]\n",
    "            w[j]*=a\n",
    "            \n",
    "    return (w)\n",
    "\n"
   ]
  },
  {
   "cell_type": "code",
   "execution_count": 1,
   "metadata": {},
   "outputs": [
    {
     "name": "stdout",
     "output_type": "stream",
     "text": [
      "[40.0, 10.0]\n"
     ]
    }
   ],
   "source": [
    "import progress1_rate as pr1\n",
    "import numpy as np\n",
    "x=np.array([[1.0],[2.0],[1]])\n",
    "v_i_prime=np.array([[1,2],[2,0],[0,2]])\n",
    "v_i_prime_prime=np.array([[0,0],[0,1],[2,1]])\n",
    "k=[10,10]\n",
    "print(pr1.progress1_rate(x,v_i_prime,v_i_prime_prime,k))"
   ]
  },
  {
   "cell_type": "code",
   "execution_count": 12,
   "metadata": {},
   "outputs": [
    {
     "name": "stdout",
     "output_type": "stream",
     "text": [
      "Overwriting progress1_test.py\n"
     ]
    }
   ],
   "source": [
    "%%file progress1_test.py\n",
    "import progress1_rate as pr1\n",
    "import numpy as np\n",
    "def test_normal1():\n",
    "    x=np.array([[1.0],[2.0],[1]])\n",
    "    v_i_prime=np.array([[1,2],[2,0],[0,2]])\n",
    "    v_i_prime_prime=np.array([[0,0],[0,1],[2,1]])\n",
    "    k=[10,10]\n",
    "    assert pr1.progress1_rate(x,v_i_prime,v_i_prime_prime,k)==[40.0, 10.0]\n",
    "\n",
    "def test_nagative_k1():\n",
    "    try:\n",
    "        x=np.array([[1.0],[2.0],[1]])\n",
    "        v_i_prime=np.array([[1,2],[2,0],[0,2]])\n",
    "        v_i_prime_prime=np.array([[0,0],[0,1],[2,1]])\n",
    "        k=[-10,10]\n",
    "        pr1.progress1_rate(x,v_i_prime,v_i_prime_prime,k)\n",
    "    except ValueError as err:\n",
    "        assert(type(err)==ValueError)\n",
    "\n",
    "def test_reactants1():\n",
    "    try:\n",
    "        x=np.array([[1.0],[2.0],[1]])\n",
    "        v_i_prime=np.array([[0,2],[0,0],[0,2]])\n",
    "        v_i_prime_prime=np.array([[0,0],[0,1],[2,1]])\n",
    "        k=[10,10]\n",
    "        pr1.progress1_rate(x,v_i_prime,v_i_prime_prime,k)\n",
    "    except ValueError as err:\n",
    "        assert(True)\n",
    "\n",
    "def test_products1():\n",
    "    try:\n",
    "        x=np.array([[1.0],[2.0],[1]])\n",
    "        v_i_prime=np.array([[1,2],[2,0],[0,2]])\n",
    "        v_i_prime_prime=np.array([[0,0],[0,0],[2,0]])\n",
    "        k=[10,10]\n",
    "        pr1.progress1_rate(x,v_i_prime,v_i_prime_prime,k)\n",
    "    except ValueError as err:\n",
    "        assert(True)\n",
    "def test_dimensions1():\n",
    "    try:\n",
    "        x=np.array([[1.0],[2.0]])\n",
    "        v_i_prime=np.array([[1,2],[2,0],[0,2]])\n",
    "        v_i_prime_prime=np.array([[1,0],[0,1],[2,0]])\n",
    "        k=[10,10]\n",
    "        pr1.progress1_rate(x,v_i_prime,v_i_prime_prime,k)\n",
    "    except ValueError as err:\n",
    "        assert(True)"
   ]
  },
  {
   "cell_type": "markdown",
   "metadata": {},
   "source": [
    "---\n",
    "# Problem 5\n",
    "Write a function that returns the **reaction rate** of a system of irreversible reactions of the form:\n",
    "\\begin{align}\n",
    "  \\nu_{11}^{\\prime} A + \\nu_{21}^{\\prime} B &\\longrightarrow \\nu_{31}^{\\prime\\prime} C \\\\\n",
    "  \\nu_{32}^{\\prime} C &\\longrightarrow \\nu_{12}^{\\prime\\prime} A + \\nu_{22}^{\\prime\\prime} B\n",
    "\\end{align}\n",
    "\n",
    "Once again $\\nu_{ij}^{\\prime}$ represents the stoichiometric coefficient of reactant $i$ in reaction $j$ and $\\nu_{ij}^{\\prime\\prime}$ represents the stoichiometric coefficient of product $i$ in reaction $j$.  In this convention, I have ordered my vector of concentrations as  \n",
    "\\begin{align}\n",
    "  \\mathbf{x} = \n",
    "  \\begin{bmatrix}\n",
    "    \\left[A\\right] \\\\\n",
    "    \\left[B\\right] \\\\\n",
    "    \\left[C\\right]\n",
    "  \\end{bmatrix}\n",
    "\\end{align}\n",
    "\n",
    "Test your function with \n",
    "\\begin{align}\n",
    "  \\nu_{ij}^{\\prime} = \n",
    "  \\begin{bmatrix}\n",
    "    1.0 & 0.0 \\\\\n",
    "    2.0 & 0.0 \\\\\n",
    "    0.0 & 2.0\n",
    "  \\end{bmatrix}\n",
    "  \\qquad\n",
    "  \\nu_{ij}^{\\prime\\prime} = \n",
    "  \\begin{bmatrix}\n",
    "    0.0 & 1.0 \\\\\n",
    "    0.0 & 2.0 \\\\\n",
    "    1.0 & 0.0\n",
    "  \\end{bmatrix}\n",
    "  \\qquad\n",
    "  \\mathbf{x} = \n",
    "  \\begin{bmatrix}\n",
    "    1.0 \\\\\n",
    "    2.0 \\\\\n",
    "    1.0\n",
    "  \\end{bmatrix}\n",
    "  \\qquad\n",
    "  k_{j} = 10, \\quad j = 1,2.\n",
    "\\end{align}\n",
    "\n",
    "You must document your function and write some tests in addition to the one suggested.  You choose the additional tests, but you must have at least one doctest in addition to a suite of unit tests."
   ]
  },
  {
   "cell_type": "code",
   "execution_count": 1,
   "metadata": {},
   "outputs": [
    {
     "name": "stdout",
     "output_type": "stream",
     "text": [
      "Overwriting reaction1_rate.py\n"
     ]
    }
   ],
   "source": [
    "%%file reaction1_rate.py\n",
    "import numpy as np\n",
    "import copy\n",
    "def reaction1_rate(x,v,vv,k):\n",
    "    \"\"\"Returns reaction rate of chemical reactoins\n",
    "    \n",
    "    INPUTS\n",
    "    =======\n",
    "    x: array of float\n",
    "        concentration of molecule species\n",
    "    v: array of integers\n",
    "        Coefficient of molecule species on the left side of equation\n",
    "    vv: array of integers\n",
    "        Coefficient of melecule species on the right side of equation\n",
    "    kk: array of float\n",
    "        reaction rate coefficient\n",
    "    \n",
    "    RETURNS\n",
    "    ========\n",
    "    roots: array of floats\n",
    "    \n",
    "    EXAMPLES\n",
    "    =========\n",
    "    >>> reaction1_rate(np.array([[1.0],[2.0],[1]]),np.array([[1,0],[2,0],[0,2]]),np.array([[0,1],[0,2],[1,0]]),[10,10])\n",
    "    array([[-40.],\n",
    "           [ 10.],\n",
    "           [-80.],\n",
    "           [ 20.],\n",
    "           [ 40.],\n",
    "           [-20.]])\n",
    "    \"\"\"\n",
    "    if (any([kk<0 for kk in k])):\n",
    "        raise ValueError(\"k<0\")\n",
    "    flag=True\n",
    "    for j in range(v.shape[1]):\n",
    "        if all([v[i][j]<=0 for i in range(v.shape[0])]):\n",
    "            flag=False\n",
    "            break \n",
    "    if (flag==False):\n",
    "        raise ValueError(\"no reactants\")\n",
    "    flag=True\n",
    "    for j in range(vv.shape[1]):\n",
    "        if all([vv[i][j]<=0 for i in range(vv.shape[0])]):\n",
    "            flag=False\n",
    "            break \n",
    "    if (flag==False):\n",
    "        raise ValueError(\"no products\")\n",
    "    if x.shape[0]!=v.shape[0] or v.shape!=vv.shape or v.shape[1]!=len(k):\n",
    "        raise ValueError(\"dimensions not match\")\n",
    "    tmp=np.array([x[i][0]**v[i][j] for i in range(v.shape[0]) for j in range(v.shape[1])]).reshape(v.shape)\n",
    "    w=copy.copy(k)\n",
    "    for i in range(len(x)):\n",
    "        for j in range(v.shape[1]):\n",
    "            a=tmp[i][j]\n",
    "            w[j]*=a\n",
    "            \n",
    "    return (np.transpose([np.array([w[j]*(vv[i][j]-v[i][j]) for i in range(len(x)) for j in range(v.shape[1])])]))\n",
    "\n"
   ]
  },
  {
   "cell_type": "code",
   "execution_count": 2,
   "metadata": {},
   "outputs": [
    {
     "name": "stdout",
     "output_type": "stream",
     "text": [
      "Overwriting reaction1_test.py\n"
     ]
    }
   ],
   "source": [
    "%%file reaction1_test.py\n",
    "import reaction1_rate as rr1\n",
    "import numpy as np\n",
    "def test_normal1():\n",
    "    x=np.array([[1.0],[2.0],[1]])\n",
    "    v_i_prime=np.array([[1,0],[2,0],[0,2]])\n",
    "    v_i_prime_prime=np.array([[0,1],[0,2],[1,0]])\n",
    "    k=[10,10]\n",
    "    assert all(rr1.reaction1_rate(x,v_i_prime,v_i_prime_prime,k)==[[-40],[10],[-80],[20],[40],[-20]])\n",
    "\n",
    "def test_nagative_k1():\n",
    "    try:\n",
    "        x=np.array([[1.0],[2.0],[1]])\n",
    "        v_i_prime=np.array([[1,2],[2,0],[0,2]])\n",
    "        v_i_prime_prime=np.array([[0,0],[0,1],[2,1]])\n",
    "        k=[-10,10]\n",
    "        rr1.reaction1_rate(x,v_i_prime,v_i_prime_prime,k)\n",
    "    except ValueError as err:\n",
    "        assert(type(err)==ValueError)\n",
    "\n",
    "def test_reactants1():\n",
    "    try:\n",
    "        x=np.array([[1.0],[2.0],[1]])\n",
    "        v_i_prime=np.array([[0,2],[0,0],[0,2]])\n",
    "        v_i_prime_prime=np.array([[0,0],[0,1],[2,1]])\n",
    "        k=[10,10]\n",
    "        rr1.reaction1_rate(x,v_i_prime,v_i_prime_prime,k)\n",
    "    except ValueError as err:\n",
    "        assert(True)\n",
    "\n",
    "def test_products1():\n",
    "    try:\n",
    "        x=np.array([[1.0],[2.0],[1]])\n",
    "        v_i_prime=np.array([[1,2],[2,0],[0,2]])\n",
    "        v_i_prime_prime=np.array([[0,0],[0,0],[2,0]])\n",
    "        k=[10,10]\n",
    "        rr1.reaction1_rate(x,v_i_prime,v_i_prime_prime,k)\n",
    "    except ValueError as err:\n",
    "        assert(True)\n",
    "def test_dimensions1():\n",
    "    try:\n",
    "        x=np.array([[1.0],[2.0]])\n",
    "        v_i_prime=np.array([[1,2],[2,0],[0,2]])\n",
    "        v_i_prime_prime=np.array([[1,0],[0,1],[2,0]])\n",
    "        k=[10,10]\n",
    "        rr1.reaction1_rate(x,v_i_prime,v_i_prime_prime,k)\n",
    "    except ValueError as err:\n",
    "        assert(True)"
   ]
  },
  {
   "cell_type": "code",
   "execution_count": 5,
   "metadata": {},
   "outputs": [
    {
     "name": "stdout",
     "output_type": "stream",
     "text": [
      "1 items had no tests:\n",
      "    __main__\n",
      "0 tests in 1 items.\n",
      "0 passed and 0 failed.\n",
      "Test passed.\n"
     ]
    },
    {
     "data": {
      "text/plain": [
       "TestResults(failed=0, attempted=0)"
      ]
     },
     "execution_count": 5,
     "metadata": {},
     "output_type": "execute_result"
    }
   ],
   "source": [
    "import doctest\n",
    "doctest.testmod(verbose=True)"
   ]
  },
  {
   "cell_type": "code",
   "execution_count": 13,
   "metadata": {},
   "outputs": [
    {
     "name": "stdout",
     "output_type": "stream",
     "text": [
      "\u001b[1m============================= test session starts ==============================\u001b[0m\n",
      "platform darwin -- Python 3.6.1, pytest-3.0.7, py-1.4.33, pluggy-0.4.0\n",
      "rootdir: /Users/zhaiyi/cs207test, inifile: setup.cfg\n",
      "plugins: cov-2.5.1\n",
      "collected 22 items \u001b[0m\u001b[1m[1m\n",
      "\u001b[0m\n",
      "chemkin.py .\n",
      "progress1_rate.py .\n",
      "progress1_test.py .....\n",
      "progress_rate.py .\n",
      "progress_test.py ....\n",
      "reaction1_rate.py .\n",
      "reaction1_test.py .....\n",
      "roots.py .\n",
      "test_roots.py ...\n",
      "\n",
      "---------- coverage: platform darwin, python 3.6.1-final-0 -----------\n",
      "Name                 Stmts   Miss  Cover   Missing\n",
      "--------------------------------------------------\n",
      "chemkin.py              28      8    71%   32, 36-37, 39, 43-44, 46, 48\n",
      "progress1_rate.py       28      0   100%\n",
      "progress1_test.py       44      0   100%\n",
      "progress_rate.py        14      0   100%\n",
      "progress_test.py        34      0   100%\n",
      "reaction1_rate.py       28      0   100%\n",
      "reaction1_test.py       44      0   100%\n",
      "reaction_coeffs.py      17     13    24%   3, 5-11, 13-18\n",
      "roots.py                 8      0   100%\n",
      "test_roots.py           13      0   100%\n",
      "--------------------------------------------------\n",
      "TOTAL                  258     21    92%\n",
      "\n",
      "\n",
      "\u001b[32m\u001b[1m========================== 22 passed in 0.36 seconds ===========================\u001b[0m\n"
     ]
    }
   ],
   "source": [
    "!pytest --cov"
   ]
  },
  {
   "cell_type": "markdown",
   "metadata": {},
   "source": [
    "---\n",
    "# Problem 6\n",
    "Put parts 3, 4, and 5 in a module called `chemkin`.\n",
    "\n",
    "Next, pretend you're a client who needs to compute the reaction rates at three different temperatures ($T = \\left\\{750, 1500, 2500\\right\\}$) of the following system of irreversible reactions:\n",
    "\\begin{align}\n",
    "  2H_{2} + O_{2} \\longrightarrow 2OH + H_{2} \\\\\n",
    "  OH + HO_{2} \\longrightarrow H_{2}O + O_{2} \\\\\n",
    "  H_{2}O + O_{2} \\longrightarrow HO_{2} + OH\n",
    "\\end{align}\n",
    "\n",
    "The client also happens to know that reaction 1 is a modified Arrhenius reaction with $A_{1} = 10^{8}$, $b_{1} = 0.5$, $E_{1} = 5\\times 10^{4}$, reaction 2 has a constant reaction rate parameter $k = 10^{4}$, and reaction 3 is an Arrhenius reaction with $A_{3} = 10^{7}$ and $E_{3} = 10^{4}$.\n",
    "\n",
    "You should write a script that imports your `chemkin` module and returns the reaction rates of the species at each temperature of interest given the following species concentrations:\n",
    "\n",
    "\\begin{align}\n",
    "  \\mathbf{x} = \n",
    "  \\begin{bmatrix}\n",
    "    H_{2}  \\\\\n",
    "    O_{2}  \\\\\n",
    "    OH     \\\\\n",
    "    HO_{2} \\\\\n",
    "    H_{2}O\n",
    "  \\end{bmatrix} = \n",
    "  \\begin{bmatrix}\n",
    "    2.0 \\\\\n",
    "    1.0 \\\\\n",
    "    0.5 \\\\\n",
    "    1.0 \\\\\n",
    "    1.0\n",
    "  \\end{bmatrix}\n",
    "\\end{align}\n",
    "\n",
    "You may assume that these are elementary reactions."
   ]
  },
  {
   "cell_type": "code",
   "execution_count": 1,
   "metadata": {},
   "outputs": [
    {
     "name": "stdout",
     "output_type": "stream",
     "text": [
      "Overwriting chemkin.py\n"
     ]
    }
   ],
   "source": [
    "%%file chemkin.py\n",
    "import numpy as np\n",
    "import copy\n",
    "def reaction1_rate(x,v,vv,k):\n",
    "    \"\"\"Returns reaction rate of chemical reactoins\n",
    "    \n",
    "    INPUTS\n",
    "    =======\n",
    "    x: array of float\n",
    "        concentration of molecule species\n",
    "    v: array of integers\n",
    "        Coefficient of molecule species on the left side of equation\n",
    "    vv: array of integers\n",
    "        Coefficient of melecule species on the right side of equation\n",
    "    kk: array of float\n",
    "        reaction rate coefficient\n",
    "    \n",
    "    RETURNS\n",
    "    ========\n",
    "    roots: array of floats\n",
    "    \n",
    "    EXAMPLES\n",
    "    =========\n",
    "    >>> reaction1_rate(np.array([[1.0],[2.0],[1]]),np.array([[1,0],[2,0],[0,2]]),np.array([[0,1],[0,2],[1,0]]),[10,10])\n",
    "    array([[-40.],\n",
    "           [ 10.],\n",
    "           [-80.],\n",
    "           [ 20.],\n",
    "           [ 40.],\n",
    "           [-20.]])\n",
    "    \"\"\"\n",
    "    if (any([kk<0 for kk in k])):\n",
    "        raise ValueError(\"k<0\")\n",
    "    flag=True\n",
    "    for j in range(v.shape[1]):\n",
    "        if all([v[i][j]<=0 for i in range(v.shape[0])]):\n",
    "            flag=False\n",
    "            break \n",
    "    if (flag==False):\n",
    "        raise ValueError(\"no reactants\")\n",
    "    flag=True\n",
    "    for j in range(vv.shape[1]):\n",
    "        if all([vv[i][j]<=0 for i in range(vv.shape[0])]):\n",
    "            flag=False\n",
    "            break \n",
    "    if (flag==False):\n",
    "        raise ValueError(\"no products\")\n",
    "    if x.shape[0]!=v.shape[0] or v.shape!=vv.shape or v.shape[1]!=len(k):\n",
    "        raise ValueError(\"dimensions not match\")\n",
    "    tmp=np.array([x[i][0]**v[i][j] for i in range(v.shape[0]) for j in range(v.shape[1])]).reshape(v.shape)\n",
    "    w=copy.copy(k)\n",
    "    for i in range(len(x)):\n",
    "        for j in range(v.shape[1]):\n",
    "            a=tmp[i][j]\n",
    "            w[j]*=a\n",
    "            \n",
    "    return (np.transpose([np.array([w[j]*(vv[i][j]-v[i][j]) for i in range(len(x)) for j in range(v.shape[1])])]))\n",
    "\n",
    "\n"
   ]
  },
  {
   "cell_type": "code",
   "execution_count": 2,
   "metadata": {},
   "outputs": [
    {
     "name": "stdout",
     "output_type": "stream",
     "text": [
      "[[ -3.60707787e+06]\n",
      " [  0.00000000e+00]\n",
      " [  0.00000000e+00]\n",
      " [ -3.60707787e+06]\n",
      " [  5.00000000e+03]\n",
      " [ -2.01146731e+06]\n",
      " [  7.21415575e+06]\n",
      " [ -5.00000000e+03]\n",
      " [  2.01146731e+06]\n",
      " [  0.00000000e+00]\n",
      " [ -5.00000000e+03]\n",
      " [  2.01146731e+06]\n",
      " [  0.00000000e+00]\n",
      " [  5.00000000e+03]\n",
      " [ -2.01146731e+06]]\n",
      "[[ -2.81117621e+08]\n",
      " [  0.00000000e+00]\n",
      " [  0.00000000e+00]\n",
      " [ -2.81117621e+08]\n",
      " [  5.00000000e+03]\n",
      " [ -4.48493847e+06]\n",
      " [  5.62235242e+08]\n",
      " [ -5.00000000e+03]\n",
      " [  4.48493847e+06]\n",
      " [  0.00000000e+00]\n",
      " [ -5.00000000e+03]\n",
      " [  4.48493847e+06]\n",
      " [  0.00000000e+00]\n",
      " [  5.00000000e+03]\n",
      " [ -4.48493847e+06]]\n",
      "[[ -1.80426143e+09]\n",
      " [  0.00000000e+00]\n",
      " [  0.00000000e+00]\n",
      " [ -1.80426143e+09]\n",
      " [  5.00000000e+03]\n",
      " [ -6.18093098e+06]\n",
      " [  3.60852285e+09]\n",
      " [ -5.00000000e+03]\n",
      " [  6.18093098e+06]\n",
      " [  0.00000000e+00]\n",
      " [ -5.00000000e+03]\n",
      " [  6.18093098e+06]\n",
      " [  0.00000000e+00]\n",
      " [  5.00000000e+03]\n",
      " [ -6.18093098e+06]]\n"
     ]
    }
   ],
   "source": [
    "import numpy as np\n",
    "import chemkin as ck\n",
    "x=np.array([[2],[1],[0.5],[1],[1]])\n",
    "v=np.array([[2,0,0],[1,0,1],[0,1,0],[0,1,0],[0,0,1]])\n",
    "vv=np.array([[1,0,0],[0,1,0],[2,0,1],[0,0,1],[0,1,0]])\n",
    "import chemkin as ck\n",
    "import reaction_coeffs as rc\n",
    "t=[750,1500,2500]\n",
    "\n",
    "a1=10**8\n",
    "b1=0.5\n",
    "e1=5*10**4\n",
    "\n",
    "k2=10**4\n",
    "\n",
    "a3=10**7\n",
    "e3=10**4\n",
    "\n",
    "\n",
    "for i in range(len(t)):\n",
    "    k=[rc.k_mod_arr(a1,e1,t[i],b1),rc.k_constant(k2),rc.k_arr(a3,e3,t[i])]\n",
    "    print(ck.reaction1_rate(x,v,vv,k))"
   ]
  },
  {
   "cell_type": "markdown",
   "metadata": {},
   "source": [
    "---\n",
    "# Problem 7\n",
    "Get together with your project team, form a GitHub organization (with a descriptive team name), and give the teaching staff access.  You can have has many repositories as you like within your organization.  However, we will grade the repository called **`cs207-FinalProject`**.\n",
    "\n",
    "Within the `cs207-FinalProject` repo, you must set up Travis CI and Coveralls.  Make sure your `README.md` file includes badges indicating how many tests are passing and the coverage of your code."
   ]
  }
 ],
 "metadata": {
  "kernelspec": {
   "display_name": "Python 3",
   "language": "python",
   "name": "python3"
  },
  "language_info": {
   "codemirror_mode": {
    "name": "ipython",
    "version": 3
   },
   "file_extension": ".py",
   "mimetype": "text/x-python",
   "name": "python",
   "nbconvert_exporter": "python",
   "pygments_lexer": "ipython3",
   "version": "3.6.1"
  }
 },
 "nbformat": 4,
 "nbformat_minor": 2
}
