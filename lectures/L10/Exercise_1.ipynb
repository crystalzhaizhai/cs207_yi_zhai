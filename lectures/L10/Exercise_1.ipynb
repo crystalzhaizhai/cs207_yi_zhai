{
 "cells": [
  {
   "cell_type": "markdown",
   "metadata": {},
   "source": [
    "# Exercise 1\n",
    "Write a subclass called `Rcircle` of the superclass `Circle`.\n",
    "\n",
    "####  Requirements\n",
    "* Must inherit from `Circle`\n",
    "* Must have it's own constructor.  The constructor accepts the circle radius supplied by the user as its argument.  That is `__init__(self, r)`.\n",
    "* The circle radius must be set in the constructor\n",
    "* The `Rcircle` subclass must reimplement the `radius` function.  It does not make sense for `Rcircle` to inherit the `radius` method from `Circle` since an instance of `Rcircle` doesn't know anything about the coordinates of the circle.\n",
    "* Include the `__eq__` special method to compare two circles.\n",
    "\n",
    "Demo your class.\n",
    "\n",
    "Your `Circle` class from last time should have looked something like this:"
   ]
  },
  {
   "cell_type": "code",
   "execution_count": 19,
   "metadata": {
    "collapsed": true
   },
   "outputs": [],
   "source": [
    "import numpy as np\n",
    "\n",
    "class Circle:\n",
    "    \n",
    "    def __init__(self, x, y):\n",
    "        self.x = x\n",
    "        self.y = y\n",
    "    \n",
    "    def radius(self):\n",
    "        self.R = np.sqrt(self.x * self.x + self.y * self.y)\n",
    "        return self.R\n",
    "    \n",
    "    def area(self):\n",
    "        try:\n",
    "            self.A = np.pi * self.R* self.R\n",
    "            return self.A\n",
    "        except AttributeError:\n",
    "            r = np.sqrt(self.x * self.x + self.y * self.y)\n",
    "            self.A = np.pi * r * r\n",
    "            return self.A\n",
    "    \n",
    "    def circum(self):\n",
    "        try:\n",
    "            self.C =  2.0 * np.pi * self.R\n",
    "            return self.C\n",
    "        except AttributeError:\n",
    "            r = np.sqrt(self.x * self.x + self.y * self.y)\n",
    "            self.C = 2.0 * np.pi * r\n",
    "            return self.C"
   ]
  },
  {
   "cell_type": "code",
   "execution_count": 25,
   "metadata": {},
   "outputs": [],
   "source": [
    "class Rcircle(Circle):\n",
    "    def __init__(self,r):\n",
    "        if r<0:\n",
    "            raise ValueError (\"r<0!\")\n",
    "        self.R=r\n",
    "    def radius(self):\n",
    "        return self.R\n",
    "    def __eq__(self,other):\n",
    "        return self.R==other.R\n",
    "    "
   ]
  },
  {
   "cell_type": "code",
   "execution_count": 26,
   "metadata": {},
   "outputs": [
    {
     "ename": "ValueError",
     "evalue": "r<0!",
     "output_type": "error",
     "traceback": [
      "\u001b[0;31m---------------------------------------------------------------------------\u001b[0m",
      "\u001b[0;31mValueError\u001b[0m                                Traceback (most recent call last)",
      "\u001b[0;32m<ipython-input-26-9036afd23fdc>\u001b[0m in \u001b[0;36m<module>\u001b[0;34m()\u001b[0m\n\u001b[0;32m----> 1\u001b[0;31m \u001b[0mr_c\u001b[0m\u001b[0;34m=\u001b[0m\u001b[0mRcircle\u001b[0m\u001b[0;34m(\u001b[0m\u001b[0;34m-\u001b[0m\u001b[0;36m1\u001b[0m\u001b[0;34m)\u001b[0m\u001b[0;34m\u001b[0m\u001b[0m\n\u001b[0m\u001b[1;32m      2\u001b[0m \u001b[0mprint\u001b[0m\u001b[0;34m(\u001b[0m\u001b[0mr_c\u001b[0m\u001b[0;34m.\u001b[0m\u001b[0mcircum\u001b[0m\u001b[0;34m(\u001b[0m\u001b[0;34m)\u001b[0m\u001b[0;34m)\u001b[0m\u001b[0;34m\u001b[0m\u001b[0m\n",
      "\u001b[0;32m<ipython-input-25-36954fa24e12>\u001b[0m in \u001b[0;36m__init__\u001b[0;34m(self, r)\u001b[0m\n\u001b[1;32m      2\u001b[0m     \u001b[0;32mdef\u001b[0m \u001b[0m__init__\u001b[0m\u001b[0;34m(\u001b[0m\u001b[0mself\u001b[0m\u001b[0;34m,\u001b[0m\u001b[0mr\u001b[0m\u001b[0;34m)\u001b[0m\u001b[0;34m:\u001b[0m\u001b[0;34m\u001b[0m\u001b[0m\n\u001b[1;32m      3\u001b[0m         \u001b[0;32mif\u001b[0m \u001b[0mr\u001b[0m\u001b[0;34m<\u001b[0m\u001b[0;36m0\u001b[0m\u001b[0;34m:\u001b[0m\u001b[0;34m\u001b[0m\u001b[0m\n\u001b[0;32m----> 4\u001b[0;31m             \u001b[0;32mraise\u001b[0m \u001b[0mValueError\u001b[0m \u001b[0;34m(\u001b[0m\u001b[0;34m\"r<0!\"\u001b[0m\u001b[0;34m)\u001b[0m\u001b[0;34m\u001b[0m\u001b[0m\n\u001b[0m\u001b[1;32m      5\u001b[0m         \u001b[0mself\u001b[0m\u001b[0;34m.\u001b[0m\u001b[0mR\u001b[0m\u001b[0;34m=\u001b[0m\u001b[0mr\u001b[0m\u001b[0;34m\u001b[0m\u001b[0m\n\u001b[1;32m      6\u001b[0m     \u001b[0;32mdef\u001b[0m \u001b[0mradius\u001b[0m\u001b[0;34m(\u001b[0m\u001b[0mself\u001b[0m\u001b[0;34m)\u001b[0m\u001b[0;34m:\u001b[0m\u001b[0;34m\u001b[0m\u001b[0m\n",
      "\u001b[0;31mValueError\u001b[0m: r<0!"
     ]
    }
   ],
   "source": [
    "r_c=Rcircle(-1)\n",
    "print(r_c.circum())"
   ]
  },
  {
   "cell_type": "code",
   "execution_count": null,
   "metadata": {
    "collapsed": true
   },
   "outputs": [],
   "source": []
  }
 ],
 "metadata": {
  "kernelspec": {
   "display_name": "Python 3",
   "language": "python",
   "name": "python3"
  },
  "language_info": {
   "codemirror_mode": {
    "name": "ipython",
    "version": 3
   },
   "file_extension": ".py",
   "mimetype": "text/x-python",
   "name": "python",
   "nbconvert_exporter": "python",
   "pygments_lexer": "ipython3",
   "version": "3.6.1"
  }
 },
 "nbformat": 4,
 "nbformat_minor": 2
}
