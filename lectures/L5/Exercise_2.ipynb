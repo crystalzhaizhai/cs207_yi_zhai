{
 "cells": [
  {
   "cell_type": "markdown",
   "metadata": {},
   "source": [
    "# Exercise 2\n",
    "Write a function to compute the roots of a mathematical equation of the form\n",
    "\\begin{align}\n",
    "  ax^{2} + bx + c = 0.\n",
    "\\end{align}\n",
    "Your function should be sensitive enough to adapt to situations in which a user might accidentally set $a=0$, or $b=0$, or even $a=b=0$.  For example, if $a=0, b\\neq 0$, your function should print a warning and compute the roots of the resulting linear function.  It is up to you on how to handle the function header: feel free to use default keyword arguments, variable positional arguments, variable keyword arguments, or something else as you see fit.  Try to make it user friendly.\n",
    "\n",
    "Your function should return a tuple containing the roots of the provided equation.\n",
    "\n",
    "**Hint:** Quadratic equations can have complex roots of the form $r = a + ib$ where $i=\\sqrt{-1}$ (Python uses the notation $j=\\sqrt{-1}$).  To deal with complex roots, you should import the `cmath` library and use `cmath.sqrt` when computing square roots.  `cmath` will return a complex number for you.  You could handle complex roots yourself if you want, but you might as well use available libraries to save some work."
   ]
  },
  {
   "cell_type": "code",
   "execution_count": 2,
   "metadata": {},
   "outputs": [
    {
     "name": "stdout",
     "output_type": "stream",
     "text": [
      "warning!\n",
      " x has infinite numbers\n"
     ]
    },
    {
     "data": {
      "text/plain": [
       "()"
      ]
     },
     "execution_count": 2,
     "metadata": {},
     "output_type": "execute_result"
    }
   ],
   "source": [
    "import cmath\n",
    "def find_root(a,b,c):\n",
    "    if (a==0 and b==0 and c==0):\n",
    "        print(\"warning!\\n x has infinite numbers\")\n",
    "        return()\n",
    "    elif (a==0 and b==0 and c!=0):\n",
    "        print(\"error!\\n no x\")\n",
    "        return()\n",
    "    elif (a==0 and b!=0):\n",
    "        print(\"warning!\\n x=\",-c/b)\n",
    "        return(-c/b)\n",
    "    else: \n",
    "        x1=(-b+cmath.sqrt(b*b-4*a*c))/(2*a)\n",
    "        x2=(-b-cmath.sqrt(b*b-4*a*c))/(2*a)\n",
    "        print(\"x1=\",x1)\n",
    "        print(\"x2=\",x2)\n",
    "        return(x1,x2)\n",
    "   \n",
    "find_root(0,0,0)"
   ]
  },
  {
   "cell_type": "code",
   "execution_count": null,
   "metadata": {
    "collapsed": true
   },
   "outputs": [],
   "source": []
  }
 ],
 "metadata": {
  "kernelspec": {
   "display_name": "Python 3",
   "language": "python",
   "name": "python3"
  },
  "language_info": {
   "codemirror_mode": {
    "name": "ipython",
    "version": 3
   },
   "file_extension": ".py",
   "mimetype": "text/x-python",
   "name": "python",
   "nbconvert_exporter": "python",
   "pygments_lexer": "ipython3",
   "version": "3.6.1"
  }
 },
 "nbformat": 4,
 "nbformat_minor": 2
}
