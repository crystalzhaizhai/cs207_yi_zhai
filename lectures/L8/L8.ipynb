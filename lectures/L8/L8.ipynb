{
 "cells": [
  {
   "cell_type": "markdown",
   "metadata": {},
   "source": [
    "# Lecture 8:  Chemical Kinetics\n",
    "Today's lecture will provide a rapid tour through chemical kinetics.  The final result is that for a system consisting of $N$ species undergoing $M$ **irreversible**, **elementary** reactions of the form \n",
    "\\begin{align}\n",
    "  \\sum_{i=1}^{N}{\\nu_{ij}^{\\prime}\\mathcal{S}_{i}} \\longrightarrow \n",
    "  \\sum_{i=1}^{N}{\\nu_{ij}^{\\prime\\prime}\\mathcal{S}_{i}}, \\qquad j = 1, \\ldots, M\n",
    "\\end{align}\n",
    "the rate of change of specie $i$ (the reaction rate) can be written as \n",
    "\\begin{align}\n",
    "  f_{i} = \\sum_{j=1}^{M}{\\nu_{ij}\\omega_{j}}, \\qquad i = 1, \\ldots, N\n",
    "\\end{align}\n",
    "where the progress rate for each reaction is given by \n",
    "\\begin{align}\n",
    "  \\omega_{j} = k_{j}\\prod_{i=1}^{N}{x_{i}^{\\nu_{ij}^{\\prime}}}, \\qquad j = 1, \\ldots, M\n",
    "\\end{align}\n",
    "and $k_{j}$ is the forward reaction rate coefficient.\n",
    "\n",
    "We will discuss the meaning of these expressions and each term as well as the physical units.  We will also go through a few different forms for the reaction rate coefficients\n",
    "\n",
    "Your responsibility for the final project is to write a library that will return the reaction rate to a user once the user specifies the reaction set.\n",
    "\n",
    "A few notes:\n",
    "\n",
    "| Symbol | Meaning |\n",
    "|:--------:|:-------:|\n",
    "| $\\mathcal{S}_{i}$ | Chemical symbol of specie $i$ |\n",
    "| $\\nu_{ij}^{\\prime}$ | Stoichiometric coefficients of reactants |\n",
    "| $\\nu_{ij}^{\\prime\\prime}$ | Stoichiometric coefficients of products |\n",
    "| $N$                       | Number of species in system |\n",
    "| $M$                       | Number of elementary reactions |\n",
    "| $f_{i}$                   | Rate of consumption or formation of specie $i$ (reaction rate) |\n",
    "| $\\omega_{j}$              | Progress rate of reaction $j$ |\n",
    "| $x_{i}$                   | Concentration of specie $i$ |\n",
    "| $k_{j}$                   | Reaction rate coefficient for reaction $j$ |"
   ]
  },
  {
   "cell_type": "code",
   "execution_count": 1,
   "metadata": {},
   "outputs": [
    {
     "data": {
      "text/plain": [
       "1"
      ]
     },
     "execution_count": 1,
     "metadata": {},
     "output_type": "execute_result"
    }
   ],
   "source": [
    "0**0"
   ]
  },
  {
   "cell_type": "code",
   "execution_count": 2,
   "metadata": {
    "collapsed": true
   },
   "outputs": [],
   "source": [
    "\n",
    "class Solution(object):\n",
    "    def lengthOfLongestSubstring(self, s):\n",
    "        \"\"\"\n",
    "        :type s: str\n",
    "        :rtype: int\n",
    "        \"\"\"\n",
    "        import numpy as np\n",
    "        str_len=np.zeros(len(s))\n",
    "        dic=dict(zip(string.ascii_lowercase,np.zeros(26)))\n",
    "        print(dic)\n",
    "        if s==\"\":\n",
    "            return 0\n",
    "        pos=0\n",
    "        str_len[0]=1\n",
    "        for ele in s:\n",
    "            if pos!=0:\n",
    "                str_len[pos]=min(pos-dic[ele],str_len[pos-1]+1)\n",
    "            dic[ele]=pos\n",
    "            pos+=1\n",
    "        \n",
    "        return str_len.max()"
   ]
  },
  {
   "cell_type": "code",
   "execution_count": 18,
   "metadata": {},
   "outputs": [],
   "source": [
    "\n",
    "def longestPalindrome( s):\n",
    "    \"\"\"\n",
    "    :type s: str\n",
    "    :rtype: str\n",
    "    \"\"\"\n",
    "    if len(s)==0:\n",
    "        return 0\n",
    "    maxLen=1\n",
    "    start=0\n",
    "    for i in range(len(s)):\n",
    "        if i-maxLen-1>=0 and s[i-maxLen-1:i+1]==s[i-maxLen-1:i+1][::-1]:\n",
    "            start=i-maxLen-1\n",
    "            maxLen+=2\n",
    "            continue\n",
    "        if i-maxLen>=0 and s[i-maxLen:i+1]==s[i-maxLen:i+1][::-1]:\n",
    "            start=i-maxLen\n",
    "            maxLen+=1\n",
    "        print(start)\n",
    "\n",
    "    return s[start:start+maxLen]\n"
   ]
  },
  {
   "cell_type": "code",
   "execution_count": 20,
   "metadata": {},
   "outputs": [
    {
     "name": "stdout",
     "output_type": "stream",
     "text": [
      "0\n",
      "0\n",
      "0\n",
      "0\n"
     ]
    },
    {
     "data": {
      "text/plain": [
       "'cb'"
      ]
     },
     "execution_count": 20,
     "metadata": {},
     "output_type": "execute_result"
    }
   ],
   "source": [
    "longestPalindrome(\"cbba\")"
   ]
  },
  {
   "cell_type": "code",
   "execution_count": null,
   "metadata": {
    "collapsed": true
   },
   "outputs": [],
   "source": []
  }
 ],
 "metadata": {
  "kernelspec": {
   "display_name": "Python 3",
   "language": "python",
   "name": "python3"
  },
  "language_info": {
   "codemirror_mode": {
    "name": "ipython",
    "version": 3
   },
   "file_extension": ".py",
   "mimetype": "text/x-python",
   "name": "python",
   "nbconvert_exporter": "python",
   "pygments_lexer": "ipython3",
   "version": "3.6.1"
  }
 },
 "nbformat": 4,
 "nbformat_minor": 2
}
