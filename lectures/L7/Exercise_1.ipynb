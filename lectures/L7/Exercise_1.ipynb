{
 "cells": [
  {
   "cell_type": "markdown",
   "metadata": {},
   "source": [
    "# Exercise 1:  Documentation and Testing\n",
    "The following little program needs some documentation and some tests.  Since you didn't write it, I'll tell you what it's supposed to do.  You'll need to document it.  Feel free to test for additional exceptions if you have time but start with it as it is.\n",
    "\n",
    "The point of the program is to compute the $L_{2}$ norm of a vector $v$.  A second argument, if provided, will be interpreted as a vector of weights.  The second argument must have the same length as the input vector.\n",
    "\n",
    "**NOTE:** The input type of the vectors for this program should be a list of numbers.\n",
    "\n",
    "As a reminder, the weighted $L_2$ norm of a vector $v$ is given by \n",
    "\\begin{align*}\n",
    "  \\|v\\|_{W} = \\sqrt{\\sum_{i=1}^{N}{\\left(w_{i}v_{i}\\right)^2}}\n",
    "\\end{align*}\n",
    "where $N$ is the length of the vector $v$, $v_{i}$ is the i-th component of the vector $v$ and $w_{i}$ is the i-th component of the weight vector.\n",
    "\n",
    "You must write the documentation and a decent test suite.  Try to include some doctests as well!\n",
    "\n",
    "Next, use the `pytest` module to run the doctests and unit tests and to assess the code coverage.\n",
    "\n",
    "If you don't already have `pytest`, you can install it using `pip install pytest`.  If you have trouble installing, here's the website: [`pytest` installation](https://docs.pytest.org/en/latest/getting-started.html)."
   ]
  },
  {
   "cell_type": "code",
   "execution_count": 3,
   "metadata": {
    "collapsed": true
   },
   "outputs": [],
   "source": [
    "import numpy as np\n",
    "\n",
    "def L2(v, *args):\n",
    "    \"\"\"Returns the norm of a vector v\n",
    "    \n",
    "    INPUTS\n",
    "    ======\n",
    "    v: list of float, vector\n",
    "    args:list of float, weight vector\n",
    "        \n",
    "    RETURNS\n",
    "    ======\n",
    "    norm: float\n",
    "          if the dimension of w and v is not the same, an error is raised\n",
    "    \n",
    "    EXAMPLES\n",
    "       >>L2([1,1,1,1,1],[1,2,3,4,5])\n",
    "        7.416198487095663\n",
    "        \n",
    "    \n",
    "    \"\"\"\n",
    "    ======\n",
    "    \n",
    "    \n",
    "    \"\"\"\n",
    "    s = 0.0 # Initialize sum\n",
    "    if len(args) == 0: # No weight vector\n",
    "        for vi in v:\n",
    "            s += vi * vi\n",
    "    else: # Weight vector present\n",
    "        w = args[0] # Get the weight vector\n",
    "        if (len(w) != len(v)): # Check lengths of lists\n",
    "            raise ValueError(\"Length of list of weights must match length of target list.\")\n",
    "        for i, vi in enumerate(v):\n",
    "            s += w[i] * w[i] * vi * vi\n",
    "    return np.sqrt(s)"
   ]
  },
  {
   "cell_type": "code",
   "execution_count": 5,
   "metadata": {},
   "outputs": [
    {
     "data": {
      "text/plain": [
       "7.416198487095663"
      ]
     },
     "execution_count": 5,
     "metadata": {},
     "output_type": "execute_result"
    }
   ],
   "source": [
    "L2([1,1,1,1,1],[1,2,3,4,5])"
   ]
  },
  {
   "cell_type": "code",
   "execution_count": 6,
   "metadata": {},
   "outputs": [
    {
     "name": "stdout",
     "output_type": "stream",
     "text": [
      "2 items had no tests:\n",
      "    __main__\n",
      "    __main__.L2\n",
      "0 tests in 2 items.\n",
      "0 passed and 0 failed.\n",
      "Test passed.\n"
     ]
    },
    {
     "data": {
      "text/plain": [
       "TestResults(failed=0, attempted=0)"
      ]
     },
     "execution_count": 6,
     "metadata": {},
     "output_type": "execute_result"
    }
   ],
   "source": [
    "import doctest\n",
    "doctest.testmod(verbose=True)"
   ]
  },
  {
   "cell_type": "code",
   "execution_count": 20,
   "metadata": {},
   "outputs": [
    {
     "name": "stdout",
     "output_type": "stream",
     "text": [
      "Overwriting L2.py\n"
     ]
    }
   ],
   "source": [
    "%%file L2.py\n",
    "import numpy as np\n",
    "def vector_len(v, *args):\n",
    "    \"\"\"Returns the norm of a vector v\n",
    "    \n",
    "    INPUTS\n",
    "    ======\n",
    "    v: list of float, vector\n",
    "    args:list of float, weight vector\n",
    "        \n",
    "    RETURNS\n",
    "    ======\n",
    "    norm: float\n",
    "          if the dimension of w and v is not the same, an error is raised\n",
    "    \n",
    "    EXAMPLES\n",
    "       >>L2([1,1,1,1,1],[1,2,3,4,5])\n",
    "        7.416198487095663\n",
    "        \n",
    "    \n",
    "    \"\"\"\n",
    "\n",
    "    s = 0.0 # Initialize sum\n",
    "    if len(args) == 0: # No weight vector\n",
    "        for vi in v:\n",
    "            s += vi * vi\n",
    "    else: # Weight vector present\n",
    "        w = args[0] # Get the weight vector\n",
    "        if (len(w) != len(v)): # Check lengths of lists\n",
    "            raise ValueError(\"Length of list of weights must match length of target list.\")\n",
    "        for i, vi in enumerate(v):\n",
    "            s += w[i] * w[i] * vi * vi\n",
    "    return np.sqrt(s)"
   ]
  },
  {
   "cell_type": "code",
   "execution_count": 28,
   "metadata": {},
   "outputs": [
    {
     "data": {
      "text/plain": [
       "2.2360679774997898"
      ]
     },
     "execution_count": 28,
     "metadata": {},
     "output_type": "execute_result"
    }
   ],
   "source": [
    "L2([1,1,1,1,1])"
   ]
  },
  {
   "cell_type": "code",
   "execution_count": 29,
   "metadata": {},
   "outputs": [
    {
     "name": "stdout",
     "output_type": "stream",
     "text": [
      "Overwriting test_L2.py\n"
     ]
    }
   ],
   "source": [
    "%%file test_L2.py\n",
    "import L2\n",
    "\n",
    "def test_L2_result():\n",
    "    assert L2.vector_len([1,1,1,1,1],[1,2,3,4,5])==7.416198487095663\n",
    "\n",
    "def test_L2_no_weight():\n",
    "    assert L2.vector_len([1,1,1,1,1])==2.2360679774997898\n",
    "def test_L2_dimensions():\n",
    "    try: \n",
    "        L2.vector_len([1,1,1,1,1,1],[1,2,3])\n",
    "    except ValueError as err:\n",
    "        assert(type(err)==ValueError)\n",
    "    \n"
   ]
  },
  {
   "cell_type": "code",
   "execution_count": 30,
   "metadata": {},
   "outputs": [
    {
     "name": "stdout",
     "output_type": "stream",
     "text": [
      "\u001b[1m============================= test session starts ==============================\u001b[0m\n",
      "platform darwin -- Python 3.6.1, pytest-3.0.7, py-1.4.33, pluggy-0.4.0\n",
      "rootdir: /Users/zhaiyi/cs207_yi_zhai/lectures/L7, inifile:\n",
      "plugins: cov-2.5.1\n",
      "collected 3 items \u001b[0m\u001b[1m\n",
      "\u001b[0m\n",
      "test_L2.py ...\n",
      "\n",
      "---------- coverage: platform darwin, python 3.6.1-final-0 -----------\n",
      "Name         Stmts   Miss  Cover\n",
      "--------------------------------\n",
      "L2.py           12      0   100%\n",
      "test_L2.py      10      0   100%\n",
      "--------------------------------\n",
      "TOTAL           22      0   100%\n",
      "\n",
      "\n",
      "\u001b[32m\u001b[1m=========================== 3 passed in 0.29 seconds ===========================\u001b[0m\n"
     ]
    }
   ],
   "source": [
    "!pytest --cov"
   ]
  },
  {
   "cell_type": "code",
   "execution_count": 31,
   "metadata": {},
   "outputs": [
    {
     "name": "stdout",
     "output_type": "stream",
     "text": [
      "\u001b[1m============================= test session starts ==============================\u001b[0m\n",
      "platform darwin -- Python 3.6.1, pytest-3.0.7, py-1.4.33, pluggy-0.4.0\n",
      "rootdir: /Users/zhaiyi/cs207_yi_zhai/lectures/L7, inifile:\n",
      "plugins: cov-2.5.1\n",
      "collected 3 items \u001b[0m\u001b[1m\n",
      "\u001b[0m\n",
      "test_L2.py ...\n",
      "\n",
      "---------- coverage: platform darwin, python 3.6.1-final-0 -----------\n",
      "Name         Stmts   Miss  Cover   Missing\n",
      "------------------------------------------\n",
      "L2.py           12      0   100%\n",
      "test_L2.py      10      0   100%\n",
      "------------------------------------------\n",
      "TOTAL           22      0   100%\n",
      "\n",
      "\n",
      "\u001b[32m\u001b[1m=========================== 3 passed in 0.29 seconds ===========================\u001b[0m\n"
     ]
    }
   ],
   "source": [
    "!pytest --cov --cov-report term-missing"
   ]
  },
  {
   "cell_type": "code",
   "execution_count": null,
   "metadata": {
    "collapsed": true
   },
   "outputs": [],
   "source": []
  }
 ],
 "metadata": {
  "kernelspec": {
   "display_name": "Python 3",
   "language": "python",
   "name": "python3"
  },
  "language_info": {
   "codemirror_mode": {
    "name": "ipython",
    "version": 3
   },
   "file_extension": ".py",
   "mimetype": "text/x-python",
   "name": "python",
   "nbconvert_exporter": "python",
   "pygments_lexer": "ipython3",
   "version": "3.6.1"
  }
 },
 "nbformat": 4,
 "nbformat_minor": 2
}
