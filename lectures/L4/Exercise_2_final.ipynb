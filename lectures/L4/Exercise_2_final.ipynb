{
 "cells": [
  {
   "cell_type": "markdown",
   "metadata": {},
   "source": [
    "## Exercise 2\n",
    "This exercise will walk you through the creation of a dictionary.\n",
    "1. First, load the data in the `names.txt` file.  This file contains common names of some species.  Load this into a list.\n",
    "2. Do the same thing with the `species.txt` file.  This file contains chemical formulae for some species.\n",
    "3. Now create a dictionary where the data from `names.txt` are the values and the data from `species.txt` are the keys.\n",
    "  + You should automate the creation of the dictionary by using a `for` loop\n",
    "  + The `for` loop should iterate over the representation created by the `zip` function. You can refer to the example around line 32 in Lecture 4 for guidance.\n",
    "  + **HINT:** Initialize the dictionary by with `my_new_dict = {}` just before executing the `for` loop.\n",
    "4. Access a value from the dictonary and print it to the screen.\n",
    "\n",
    "**Note:** The same dictionary can be created by executing the following one-liner:  `species_dict_2 = dict(zip(species, names))`."
   ]
  },
  {
   "cell_type": "code",
   "execution_count": 12,
   "metadata": {},
   "outputs": [
    {
     "name": "stdout",
     "output_type": "stream",
     "text": [
      "['Hydrogen', 'Oxygen', 'Hydroxyl', 'Water', 'Hydrogen', 'Peroxide']\n",
      "['H2', 'O2', 'OH', 'H2O', 'H2O2']\n",
      "{'Hydrogen': 'H2O2', 'Oxygen': 'O2', 'Hydroxyl': 'OH', 'Water': 'H2O'}\n"
     ]
    }
   ],
   "source": [
    "\n",
    "with open(\"names.txt\",\"r\") as f:\n",
    "    species=f.read().split();\n",
    "print(species)\n",
    "with open(\"species.txt\",'r') as g:\n",
    "    chemicals=g.read().split();\n",
    "print(chemicals)\n",
    "my_new_dict={};\n",
    "for speci, chem in zip(species,chemicals):\n",
    "    my_new_dict[speci]=chem\n",
    "print(my_new_dict)"
   ]
  },
  {
   "cell_type": "code",
   "execution_count": 14,
   "metadata": {},
   "outputs": [
    {
     "name": "stdout",
     "output_type": "stream",
     "text": [
      "{'Hydrogen': 'H2O2', 'Oxygen': 'O2', 'Hydroxyl': 'OH', 'Water': 'H2O'}\n"
     ]
    }
   ],
   "source": [
    "my_second_dict=dict(zip(species, chemicals))\n",
    "print(my_new_dict)"
   ]
  },
  {
   "cell_type": "code",
   "execution_count": null,
   "metadata": {
    "collapsed": true
   },
   "outputs": [],
   "source": []
  }
 ],
 "metadata": {
  "kernelspec": {
   "display_name": "Python 3",
   "language": "python",
   "name": "python3"
  },
  "language_info": {
   "codemirror_mode": {
    "name": "ipython",
    "version": 3
   },
   "file_extension": ".py",
   "mimetype": "text/x-python",
   "name": "python",
   "nbconvert_exporter": "python",
   "pygments_lexer": "ipython3",
   "version": "3.6.1"
  }
 },
 "nbformat": 4,
 "nbformat_minor": 2
}
